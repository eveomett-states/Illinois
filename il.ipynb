{
 "cells": [
  {
   "cell_type": "code",
   "execution_count": 1,
   "metadata": {},
   "outputs": [],
   "source": [
    "import pandas as pd\n",
    "import geopandas as gpd\n",
    "import maup\n",
    "import time\n",
    "from maup import smart_repair\n",
    "from gerrychain import Graph\n",
    "\n",
    "maup.progress.enabled = True"
   ]
  },
  {
   "cell_type": "code",
   "execution_count": 2,
   "metadata": {},
   "outputs": [],
   "source": [
    "import warnings\n",
    "warnings.filterwarnings(\"ignore\")"
   ]
  },
  {
   "cell_type": "code",
   "execution_count": 3,
   "metadata": {},
   "outputs": [],
   "source": [
    "# Illinois\n",
    "state_ab = \"il\""
   ]
  },
  {
   "cell_type": "markdown",
   "metadata": {},
   "source": [
    "## Data\n",
    "1. Download all the data in directory \"il_data\"\n",
    "2. Extract them all"
   ]
  },
  {
   "cell_type": "code",
   "execution_count": 42,
   "metadata": {},
   "outputs": [],
   "source": [
    "data_folder = state_ab + \"_data/\"\n",
    "population1_data = \"./{}{}_pl2020_b/{}_pl2020_p1_b.shp\".format(data_folder, state_ab, state_ab)\n",
    "population2_data = \"./{}{}_pl2020_b/{}_pl2020_p2_b.shp\".format(data_folder, state_ab, state_ab)\n",
    "vap_data =  \"./{}{}_pl2020_b/{}_pl2020_p4_b.shp\".format(data_folder, state_ab, state_ab)\n",
    "vest20_data = \"./{}{}_vest_20/{}_vest_20.shp\".format(data_folder, state_ab, state_ab)\n",
    "vest18_data = \"./{}{}_vest_18/{}_vest_18.shp\".format(data_folder, state_ab, state_ab)\n",
    "vest16_data = \"./{}{}_vest_16/{}_vest_16.shp\".format(data_folder, state_ab, state_ab)\n",
    "cd_data = \"./{}{}_cong_adopted_2021/cong.shp\".format(data_folder, state_ab)\n",
    "send_data = \"./{}{}_sldu_2021/il_sldu_2021.shp\".format(data_folder, state_ab)\n",
    "hdist_data = \"./{}{}_sldl_adopted_2021/il_sldl_adopted_2021.shp\".format(data_folder, state_ab)\n",
    "county_data = \"./{}{}_pl2020_cnty/{}_pl2020_cnty.shp\".format(data_folder, state_ab, state_ab)"
   ]
  },
  {
   "cell_type": "code",
   "execution_count": 5,
   "metadata": {},
   "outputs": [],
   "source": [
    "def do_smart_repair(df, min_rook_length = None, snap_precision = 10):\n",
    "    # change it to the UTM it needs for smart_repair\n",
    "    df = df.to_crs(df.estimate_utm_crs())\n",
    "    df = smart_repair(df, min_rook_length = min_rook_length, snap_precision = snap_precision)\n",
    "\n",
    "    if maup.doctor(df) == False:\n",
    "        raise Exception('maup.doctor failed')\n",
    "    \n",
    "    return df"
   ]
  },
  {
   "cell_type": "code",
   "execution_count": 6,
   "metadata": {},
   "outputs": [],
   "source": [
    "def add_district(dist_df, dist_name, election_df, col_name):\n",
    "    election_df = election_df.to_crs(election_df.estimate_utm_crs())\n",
    "    dist_df = dist_df.to_crs(dist_df.estimate_utm_crs())\n",
    "    # check if it needs to be smart_repair\n",
    "    if maup.doctor(dist_df) != True:\n",
    "        dist_df = do_smart_repair(dist_df)\n",
    "\n",
    "    # assign the pricincts\n",
    "    precincts_to_district_assignment = maup.assign(election_df.geometry, dist_df.geometry)\n",
    "    election_df[dist_name] = precincts_to_district_assignment\n",
    "    for precinct_index in range(len(election_df)):\n",
    "        election_df.at[precinct_index, dist_name] = dist_df.at[election_df.at[precinct_index, dist_name], col_name]\n",
    "\n",
    "    return election_df"
   ]
  },
  {
   "cell_type": "code",
   "execution_count": 7,
   "metadata": {},
   "outputs": [],
   "source": [
    "def rename(original, year):\n",
    "    party = original[6]\n",
    "    if party == 'R' or party == 'D':\n",
    "        return original[3:6] + year + original[6]\n",
    "    else:\n",
    "        return original[3:6] + year + 'O'"
   ]
  },
  {
   "cell_type": "code",
   "execution_count": 8,
   "metadata": {},
   "outputs": [],
   "source": [
    "pop_col = ['TOTPOP', 'HISP', 'NH_WHITE', 'NH_BLACK', 'NH_AMIN', 'NH_ASIAN', 'NH_NHPI', 'NH_OTHER', 'NH_2MORE', 'H_WHITE', 'H_BLACK', 'H_AMIN', 'H_ASIAN', 'H_NHPI', 'H_OTHER', 'H_2MORE', 'VAP', 'HVAP', 'WVAP', 'BVAP', 'AMINVAP', 'ASIANVAP', 'NHPIVAP', 'OTHERVAP', '2MOREVAP']"
   ]
  },
  {
   "cell_type": "code",
   "execution_count": 9,
   "metadata": {},
   "outputs": [],
   "source": [
    "def check_population(population, df):\n",
    "    pop_check = pd.DataFrame({\n",
    "        'pop_col': pop_col,\n",
    "        'population_df': population[pop_col].sum(), \n",
    "        'vest_base': df[pop_col].sum(),\n",
    "        'equal': [x == y for x, y in zip(population[pop_col].sum(), df[pop_col].sum())]\n",
    "    })\n",
    "    if pop_check['equal'].mean() < 1:\n",
    "        print(pop_check)\n",
    "        raise Exception(\"population doesn't agree\")\n",
    "\n",
    "    else:\n",
    "        print(\"population agrees\")"
   ]
  },
  {
   "cell_type": "code",
   "execution_count": 10,
   "metadata": {},
   "outputs": [],
   "source": [
    "def add_vest(vest, df, year, population, start_col, snap_precision = 10):\n",
    "    df = df.to_crs(df.estimate_utm_crs())\n",
    "    vest = vest.to_crs(vest.estimate_utm_crs())\n",
    "    population = population.to_crs(population.estimate_utm_crs())\n",
    "    df_crs = df.crs\n",
    "    vest_crs = vest.crs\n",
    "    \n",
    "     # check if it needs to be smart_repair\n",
    "    if maup.doctor(vest) != True:\n",
    "        vest = do_smart_repair(vest, snap_precision = snap_precision)\n",
    "    \n",
    "    # rename the columns\n",
    "    original_col = vest.columns[start_col:-1]\n",
    "    new_col = [rename(i, year) for i in original_col]\n",
    "    rename_dict = dict(zip(original_col, new_col))\n",
    "    vest = vest.rename(columns=rename_dict)\n",
    "    vest = vest.groupby(level=0, axis=1).sum() # combine all the other party's vote into columns with sufix \"O\"\n",
    "    col_name = list(set(new_col))\n",
    "    col_name.sort()\n",
    "    \n",
    "    # make the blocks from precincts by weight\n",
    "    vest = gpd.GeoDataFrame(vest, crs=vest_crs)\n",
    "    election_in_block = population[[\"VAP\", 'geometry']] # population_df is in block scale\n",
    "    blocks_to_precincts_assignment = maup.assign(election_in_block.geometry, vest.geometry)\n",
    "    weights = election_in_block[\"VAP\"] / blocks_to_precincts_assignment.map(election_in_block[\"VAP\"].groupby(blocks_to_precincts_assignment).sum())\n",
    "    weights = weights.fillna(0)\n",
    "    prorated = maup.prorate(blocks_to_precincts_assignment, vest[col_name], weights)\n",
    "    election_in_block[col_name] = prorated\n",
    "    \n",
    "    # assign blocks to precincts\n",
    "    election_in_block = gpd.GeoDataFrame(election_in_block, crs=vest_crs)\n",
    "    df = gpd.GeoDataFrame(df, crs=df_crs)\n",
    "    block_to_pricinct_assginment = maup.assign(election_in_block.geometry, df.geometry)\n",
    "    df[col_name] = election_in_block[col_name].groupby(block_to_pricinct_assginment).sum()\n",
    "    df = df.groupby(level=0, axis=1).sum()\n",
    "    df = gpd.GeoDataFrame(df, crs = df_crs)\n",
    "    # check if population agrees\n",
    "    check_population(population, df)\n",
    "    \n",
    "    return df"
   ]
  },
  {
   "cell_type": "code",
   "execution_count": 11,
   "metadata": {},
   "outputs": [],
   "source": [
    "def add_vest_base(vest, start_col, year, county = None, min_rook_length = None, snap_precision = 10):\n",
    "    vest = vest.to_crs(vest.estimate_utm_crs())\n",
    "    vest_crs = vest.crs\n",
    "    original_col = vest.columns[start_col:-1]\n",
    "    new_col = [rename(i, year) for i in original_col]\n",
    "    rename_dict = dict(zip(original_col, new_col))\n",
    "    vest = vest.rename(columns=rename_dict)\n",
    "    vest = vest.groupby(level=0, axis=1).sum()\n",
    "    vest = gpd.GeoDataFrame(vest, crs=vest_crs)\n",
    "\n",
    "    if county is not None:\n",
    "        county = county.to_crs(county.estimate_utm_crs())\n",
    "        vest = smart_repair(vest, nest_within_regions = county, min_rook_length = min_rook_length, snap_precision = snap_precision) # nest precincts within counties\n",
    "\n",
    "    else:\n",
    "        vest = smart_repair(vest, min_rook_length = min_rook_length, snap_precision = snap_precision) \n",
    "    \n",
    "    return vest"
   ]
  },
  {
   "cell_type": "code",
   "execution_count": 12,
   "metadata": {},
   "outputs": [],
   "source": [
    "def check_small_boundary_lengths(vest_base):\n",
    "    import copy\n",
    "    vest_base = vest_base.to_crs(vest_base.estimate_utm_crs())\n",
    "\n",
    "    boundaries = copy.deepcopy(vest_base)\n",
    "    boundaries[\"geometry\"] = boundaries.geometry.boundary  # get boundaries\n",
    "    neighbors = gpd.sjoin(boundaries, vest_base, predicate=\"intersects\") # find boundaries that intersect\n",
    "    neighbors = neighbors[neighbors.index != neighbors.index_right] # remove boundaries of a region with itself\n",
    "\n",
    "    # compute shared border length using intersection\n",
    "    borders = list(neighbors.apply(\n",
    "        lambda row: row.geometry.intersection(vest_base.loc[row.index_right, \"geometry\"]).length, axis=1\n",
    "    ))\n",
    "\n",
    "    borders.sort()\n",
    "    \n",
    "    return borders"
   ]
  },
  {
   "cell_type": "markdown",
   "metadata": {},
   "source": [
    "### Read the census data"
   ]
  },
  {
   "cell_type": "code",
   "execution_count": 13,
   "metadata": {},
   "outputs": [],
   "source": [
    "population1_df = gpd.read_file(population1_data)\n",
    "population2_df = gpd.read_file(population2_data)\n",
    "vap_df = gpd.read_file(vap_data)\n",
    "county_df = gpd.read_file(county_data)"
   ]
  },
  {
   "cell_type": "code",
   "execution_count": 14,
   "metadata": {},
   "outputs": [],
   "source": [
    "population2_df = population2_df.drop(columns=['SUMLEV', 'LOGRECNO', 'GEOID', 'COUNTY', 'geometry'])\n",
    "vap_df = vap_df.drop(columns=['SUMLEV', 'LOGRECNO', 'GEOID', 'COUNTY', 'geometry'])"
   ]
  },
  {
   "cell_type": "code",
   "execution_count": 15,
   "metadata": {},
   "outputs": [],
   "source": [
    "population_df = pd.merge(population1_df, population2_df, on='GEOID20')\n",
    "population_df = pd.merge(population_df, vap_df, on='GEOID20')\n",
    "population_df = population_df.to_crs(population_df.estimate_utm_crs())"
   ]
  },
  {
   "cell_type": "code",
   "execution_count": 16,
   "metadata": {},
   "outputs": [
    {
     "name": "stderr",
     "output_type": "stream",
     "text": [
      "100%|█████████████████████████████████| 369978/369978 [02:10<00:00, 2832.29it/s]\n"
     ]
    },
    {
     "data": {
      "text/plain": [
       "True"
      ]
     },
     "execution_count": 16,
     "metadata": {},
     "output_type": "execute_result"
    }
   ],
   "source": [
    "maup.doctor(population_df)"
   ]
  },
  {
   "cell_type": "code",
   "execution_count": 17,
   "metadata": {},
   "outputs": [],
   "source": [
    "population_df['H_WHITE'] = population_df.apply(lambda t: t['P0010003'] - t['P0020005'], 1)\n",
    "population_df['H_BLACK'] = population_df.apply(lambda t: t['P0010004'] - t['P0020006'], 1)\n",
    "population_df['H_AMIN'] = population_df.apply(lambda t: t['P0010005'] - t['P0020007'], 1)\n",
    "population_df['H_ASIAN'] = population_df.apply(lambda t: t['P0010006'] - t['P0020008'], 1)\n",
    "population_df['H_NHPI'] = population_df.apply(lambda t: t['P0010007'] - t['P0020009'], 1)\n",
    "population_df['H_OTHER'] = population_df.apply(lambda t: t['P0010008'] - t['P0020010'], 1)\n",
    "population_df['H_2MORE'] = population_df.apply(lambda t: t['P0010009'] - t['P0020011'], 1)"
   ]
  },
  {
   "cell_type": "code",
   "execution_count": 18,
   "metadata": {},
   "outputs": [],
   "source": [
    "rename_dict = {'P0020001': 'TOTPOP', 'P0020002': 'HISP', 'P0020005': 'NH_WHITE', 'P0020006': 'NH_BLACK', 'P0020007': 'NH_AMIN',\n",
    "                    'P0020008': 'NH_ASIAN', 'P0020009': 'NH_NHPI', 'P0020010': 'NH_OTHER', 'P0020011': 'NH_2MORE',\n",
    "                    'P0040001': 'VAP', 'P0040002': 'HVAP', 'P0040005': 'WVAP', 'P0040006': 'BVAP', 'P0040007': 'AMINVAP',\n",
    "                                        'P0040008': 'ASIANVAP', 'P0040009': 'NHPIVAP', 'P0040010': 'OTHERVAP', 'P0040011': '2MOREVAP'}"
   ]
  },
  {
   "cell_type": "code",
   "execution_count": 19,
   "metadata": {},
   "outputs": [],
   "source": [
    "population_df.rename(columns=rename_dict, inplace = True)"
   ]
  },
  {
   "cell_type": "markdown",
   "metadata": {},
   "source": [
    "Make sure that the County shapefile is clean:"
   ]
  },
  {
   "cell_type": "code",
   "execution_count": 20,
   "metadata": {},
   "outputs": [
    {
     "name": "stderr",
     "output_type": "stream",
     "text": [
      "100%|████████████████████████████████████████| 102/102 [00:00<00:00, 386.38it/s]\n"
     ]
    },
    {
     "data": {
      "text/plain": [
       "True"
      ]
     },
     "execution_count": 20,
     "metadata": {},
     "output_type": "execute_result"
    }
   ],
   "source": [
    "maup.doctor(county_df)"
   ]
  },
  {
   "cell_type": "markdown",
   "metadata": {},
   "source": [
    "## Read the vest 20 data\n",
    "\n",
    "Now using it as a \"base pricinct\""
   ]
  },
  {
   "cell_type": "markdown",
   "metadata": {},
   "source": [
    "## Check if vest20 can be used as base"
   ]
  },
  {
   "cell_type": "code",
   "execution_count": 21,
   "metadata": {},
   "outputs": [],
   "source": [
    "vest20 = gpd.read_file(vest20_data)"
   ]
  },
  {
   "cell_type": "code",
   "execution_count": 22,
   "metadata": {},
   "outputs": [
    {
     "data": {
      "text/plain": [
       "Index(['STATEFP20', 'COUNTYFP20', 'VTDST20', 'GEOID20', 'NAME20', 'G20PREDBID',\n",
       "       'G20PRERTRU', 'G20PRELJOR', 'G20PREGHAW', 'G20PREACAR', 'G20PRESLAR',\n",
       "       'G20USSDDUR', 'G20USSRCUR', 'G20USSIWIL', 'G20USSLMAL', 'G20USSGBLA',\n",
       "       'geometry'],\n",
       "      dtype='object')"
      ]
     },
     "execution_count": 22,
     "metadata": {},
     "output_type": "execute_result"
    }
   ],
   "source": [
    "vest20.columns"
   ]
  },
  {
   "cell_type": "code",
   "execution_count": 23,
   "metadata": {},
   "outputs": [],
   "source": [
    "start_col = 5\n",
    "vest_base_data = vest20\n",
    "year = '20'"
   ]
  },
  {
   "cell_type": "code",
   "execution_count": 24,
   "metadata": {},
   "outputs": [
    {
     "name": "stderr",
     "output_type": "stream",
     "text": [
      "100%|████████████████████████████████████████| 102/102 [00:00<00:00, 381.43it/s]\n"
     ]
    },
    {
     "name": "stdout",
     "output_type": "stream",
     "text": [
      "Snapping all geometries to a grid with precision 10^( -5 ) to avoid GEOS errors.\n"
     ]
    },
    {
     "name": "stderr",
     "output_type": "stream",
     "text": [
      "100%|████████████████████████████████████████| 102/102 [00:00<00:00, 149.45it/s]\n"
     ]
    },
    {
     "name": "stdout",
     "output_type": "stream",
     "text": [
      "Identifying overlaps...\n"
     ]
    },
    {
     "name": "stderr",
     "output_type": "stream",
     "text": [
      "100%|███████████████████████████████████| 10705/10705 [00:05<00:00, 1868.92it/s]\n"
     ]
    },
    {
     "name": "stdout",
     "output_type": "stream",
     "text": [
      "Resolving overlaps and filling gaps...\n"
     ]
    },
    {
     "name": "stderr",
     "output_type": "stream",
     "text": [
      "100%|████████████████████████████████████████| 102/102 [00:00<00:00, 144.34it/s]\n",
      "Gaps to simplify: 0it [00:00, ?it/s]\n",
      "Gaps to fill: 0it [00:00, ?it/s]\n",
      "Gaps to simplify: 0it [00:00, ?it/s]\n",
      "Gaps to fill: 0it [00:00, ?it/s]\n",
      "Gaps to simplify: 0it [00:00, ?it/s]\n",
      "Gaps to fill: 0it [00:00, ?it/s]\n",
      "Gaps to simplify: 0it [00:00, ?it/s]\n",
      "Gaps to fill: 0it [00:00, ?it/s]\n",
      "Gaps to simplify: 0it [00:00, ?it/s]\n",
      "Gaps to fill: 0it [00:00, ?it/s]\n",
      "Gaps to simplify: 0it [00:00, ?it/s]\n",
      "Gaps to fill: 0it [00:00, ?it/s]\n",
      "Gaps to simplify: 0it [00:00, ?it/s]\n",
      "Gaps to fill: 0it [00:00, ?it/s]\n",
      "Gaps to simplify: 0it [00:00, ?it/s]\n",
      "Gaps to fill: 0it [00:00, ?it/s]\n",
      "Gaps to simplify: 0it [00:00, ?it/s]\n",
      "Gaps to fill: 0it [00:00, ?it/s]\n",
      "Gaps to simplify: 0it [00:00, ?it/s]\n",
      "Gaps to fill: 0it [00:00, ?it/s]\n",
      "Gaps to simplify: 0it [00:00, ?it/s]\n",
      "Gaps to fill: 0it [00:00, ?it/s]\n",
      "Gaps to simplify: 0it [00:00, ?it/s]\n",
      "Gaps to fill: 0it [00:00, ?it/s]\n",
      "Gaps to simplify: 0it [00:00, ?it/s]\n",
      "Gaps to fill: 0it [00:00, ?it/s]\n",
      "Gaps to simplify: 0it [00:00, ?it/s]\n",
      "Gaps to fill: 0it [00:00, ?it/s]\n",
      "Gaps to simplify: 0it [00:00, ?it/s]\n",
      "Gaps to fill: 0it [00:00, ?it/s]\n",
      "Gaps to simplify: 0it [00:00, ?it/s]\n",
      "Gaps to fill: 0it [00:00, ?it/s]\n",
      "Gaps to simplify: 0it [00:00, ?it/s]\n",
      "Gaps to fill: 0it [00:00, ?it/s]\n",
      "Gaps to simplify: 0it [00:00, ?it/s]\n",
      "Gaps to fill: 0it [00:00, ?it/s]\n",
      "Gaps to simplify: 0it [00:00, ?it/s]\n",
      "Gaps to fill: 0it [00:00, ?it/s]\n",
      "Gaps to simplify: 0it [00:00, ?it/s]\n",
      "Gaps to fill: 0it [00:00, ?it/s]\n",
      "Gaps to simplify: 0it [00:00, ?it/s]\n",
      "Gaps to fill: 0it [00:00, ?it/s]\n",
      "Gaps to simplify: 0it [00:00, ?it/s]\n",
      "Gaps to fill: 0it [00:00, ?it/s]\n",
      "Gaps to simplify: 0it [00:00, ?it/s]\n",
      "Gaps to fill: 0it [00:00, ?it/s]\n",
      "Gaps to simplify: 0it [00:00, ?it/s]\n",
      "Gaps to fill: 0it [00:00, ?it/s]\n",
      "Gaps to simplify: 0it [00:00, ?it/s]\n",
      "Gaps to fill: 0it [00:00, ?it/s]\n",
      "Gaps to simplify: 0it [00:00, ?it/s]\n",
      "Gaps to fill: 0it [00:00, ?it/s]\n",
      "Gaps to simplify: 0it [00:00, ?it/s]\n",
      "Gaps to fill: 0it [00:00, ?it/s]\n",
      "Gaps to simplify: 0it [00:00, ?it/s]\n",
      "Gaps to fill: 0it [00:00, ?it/s]\n",
      "Gaps to simplify: 0it [00:00, ?it/s]\n",
      "Gaps to fill: 0it [00:00, ?it/s]\n",
      "Gaps to simplify: 0it [00:00, ?it/s]\n",
      "Gaps to fill: 0it [00:00, ?it/s]\n",
      "Gaps to simplify: 0it [00:00, ?it/s]\n",
      "Gaps to fill: 0it [00:00, ?it/s]\n",
      "Gaps to simplify: 0it [00:00, ?it/s]\n",
      "Gaps to fill: 0it [00:00, ?it/s]\n",
      "Gaps to simplify: 0it [00:00, ?it/s]\n",
      "Gaps to fill: 0it [00:00, ?it/s]\n",
      "Gaps to simplify: 0it [00:00, ?it/s]\n",
      "Gaps to fill: 0it [00:00, ?it/s]\n",
      "Gaps to simplify: 0it [00:00, ?it/s]\n",
      "Gaps to fill: 0it [00:00, ?it/s]\n",
      "Gaps to simplify: 0it [00:00, ?it/s]\n",
      "Gaps to fill: 0it [00:00, ?it/s]\n",
      "Gaps to simplify: 0it [00:00, ?it/s]\n",
      "Gaps to fill: 0it [00:00, ?it/s]\n",
      "Gaps to simplify: 0it [00:00, ?it/s]\n",
      "Gaps to fill: 0it [00:00, ?it/s]\n",
      "Gaps to simplify: 0it [00:00, ?it/s]\n",
      "Gaps to fill: 0it [00:00, ?it/s]\n",
      "Gaps to simplify: 0it [00:00, ?it/s]\n",
      "Gaps to fill: 0it [00:00, ?it/s]\n",
      "Gaps to simplify: 0it [00:00, ?it/s]\n",
      "Gaps to fill: 0it [00:00, ?it/s]\n",
      "Gaps to simplify: 0it [00:00, ?it/s]\n",
      "Gaps to fill: 0it [00:00, ?it/s]\n",
      "Gaps to simplify: 0it [00:00, ?it/s]\n",
      "Gaps to fill: 0it [00:00, ?it/s]\n",
      "Gaps to simplify: 0it [00:00, ?it/s]\n",
      "Gaps to fill: 0it [00:00, ?it/s]\n",
      "Gaps to simplify: 0it [00:00, ?it/s]\n",
      "Gaps to fill: 0it [00:00, ?it/s]\n",
      "Gaps to simplify: 0it [00:00, ?it/s]\n",
      "Gaps to fill: 0it [00:00, ?it/s]\n",
      "Gaps to simplify: 0it [00:00, ?it/s]\n",
      "Gaps to fill: 0it [00:00, ?it/s]\n",
      "Gaps to simplify: 0it [00:00, ?it/s]\n",
      "Gaps to fill: 0it [00:00, ?it/s]\n",
      "Gaps to simplify: 0it [00:00, ?it/s]\n",
      "Gaps to fill: 0it [00:00, ?it/s]\n",
      "Gaps to simplify: 0it [00:00, ?it/s]\n",
      "Gaps to fill: 0it [00:00, ?it/s]\n",
      "Gaps to simplify: 0it [00:00, ?it/s]\n",
      "Gaps to fill: 0it [00:00, ?it/s]\n",
      "Gaps to simplify: 0it [00:00, ?it/s]\n",
      "Gaps to fill: 0it [00:00, ?it/s]\n",
      "Gaps to simplify: 0it [00:00, ?it/s]\n",
      "Gaps to fill: 0it [00:00, ?it/s]\n",
      "Gaps to simplify: 0it [00:00, ?it/s]\n",
      "Gaps to fill: 0it [00:00, ?it/s]\n",
      "Gaps to simplify: 0it [00:00, ?it/s]\n",
      "Gaps to fill: 0it [00:00, ?it/s]\n",
      "Gaps to simplify: 0it [00:00, ?it/s]\n",
      "Gaps to fill: 0it [00:00, ?it/s]\n",
      "Gaps to simplify: 0it [00:00, ?it/s]\n",
      "Gaps to fill: 0it [00:00, ?it/s]\n",
      "Gaps to simplify: 0it [00:00, ?it/s]\n",
      "Gaps to fill: 0it [00:00, ?it/s]\n",
      "Gaps to simplify: 0it [00:00, ?it/s]\n",
      "Gaps to fill: 0it [00:00, ?it/s]\n",
      "Gaps to simplify: 0it [00:00, ?it/s]\n",
      "Gaps to fill: 0it [00:00, ?it/s]\n",
      "Gaps to simplify: 0it [00:00, ?it/s]\n",
      "Gaps to fill: 0it [00:00, ?it/s]\n",
      "Gaps to simplify: 0it [00:00, ?it/s]\n",
      "Gaps to fill: 0it [00:00, ?it/s]\n",
      "Gaps to simplify: 0it [00:00, ?it/s]\n",
      "Gaps to fill: 0it [00:00, ?it/s]\n",
      "Gaps to simplify: 0it [00:00, ?it/s]\n",
      "Gaps to fill: 0it [00:00, ?it/s]\n",
      "Gaps to simplify: 0it [00:00, ?it/s]\n",
      "Gaps to fill: 0it [00:00, ?it/s]\n",
      "Gaps to simplify: 0it [00:00, ?it/s]\n",
      "Gaps to fill: 0it [00:00, ?it/s]\n",
      "Gaps to simplify: 0it [00:00, ?it/s]\n",
      "Gaps to fill: 0it [00:00, ?it/s]\n",
      "Gaps to simplify: 0it [00:00, ?it/s]\n",
      "Gaps to fill: 0it [00:00, ?it/s]\n",
      "Gaps to simplify: 0it [00:00, ?it/s]\n",
      "Gaps to fill: 0it [00:00, ?it/s]\n",
      "Gaps to simplify: 0it [00:00, ?it/s]\n",
      "Gaps to fill: 0it [00:00, ?it/s]\n",
      "Gaps to simplify: 0it [00:00, ?it/s]\n",
      "Gaps to fill: 0it [00:00, ?it/s]\n",
      "Gaps to simplify: 0it [00:00, ?it/s]\n",
      "Gaps to fill: 0it [00:00, ?it/s]\n",
      "Gaps to simplify: 0it [00:00, ?it/s]\n",
      "Gaps to fill: 0it [00:00, ?it/s]\n",
      "Gaps to simplify: 0it [00:00, ?it/s]\n",
      "Gaps to fill: 0it [00:00, ?it/s]\n",
      "Gaps to simplify: 0it [00:00, ?it/s]\n",
      "Gaps to fill: 0it [00:00, ?it/s]\n",
      "Gaps to simplify: 0it [00:00, ?it/s]\n",
      "Gaps to fill: 0it [00:00, ?it/s]\n",
      "Gaps to simplify: 0it [00:00, ?it/s]\n",
      "Gaps to fill: 0it [00:00, ?it/s]\n",
      "Gaps to simplify: 0it [00:00, ?it/s]\n",
      "Gaps to fill: 0it [00:00, ?it/s]\n",
      "Gaps to simplify: 0it [00:00, ?it/s]\n",
      "Gaps to fill: 0it [00:00, ?it/s]\n",
      "Gaps to simplify: 0it [00:00, ?it/s]\n",
      "Gaps to fill: 0it [00:00, ?it/s]\n",
      "Gaps to simplify: 0it [00:00, ?it/s]\n",
      "Gaps to fill: 0it [00:00, ?it/s]\n",
      "Gaps to simplify: 0it [00:00, ?it/s]\n",
      "Gaps to fill: 0it [00:00, ?it/s]\n",
      "Gaps to simplify: 0it [00:00, ?it/s]\n",
      "Gaps to fill: 0it [00:00, ?it/s]\n",
      "Gaps to simplify: 0it [00:00, ?it/s]\n",
      "Gaps to fill: 0it [00:00, ?it/s]\n",
      "Gaps to simplify: 0it [00:00, ?it/s]\n",
      "Gaps to fill: 0it [00:00, ?it/s]\n",
      "Gaps to simplify: 0it [00:00, ?it/s]\n",
      "Gaps to fill: 0it [00:00, ?it/s]\n",
      "Gaps to simplify: 0it [00:00, ?it/s]\n",
      "Gaps to fill: 0it [00:00, ?it/s]\n",
      "Gaps to simplify: 0it [00:00, ?it/s]\n",
      "Gaps to fill: 0it [00:00, ?it/s]\n",
      "Gaps to simplify: 0it [00:00, ?it/s]\n",
      "Gaps to fill: 0it [00:00, ?it/s]\n",
      "Gaps to simplify: 0it [00:00, ?it/s]\n",
      "Gaps to fill: 0it [00:00, ?it/s]\n",
      "Gaps to simplify: 0it [00:00, ?it/s]\n",
      "Gaps to fill: 0it [00:00, ?it/s]\n",
      "Gaps to simplify: 0it [00:00, ?it/s]\n",
      "Gaps to fill: 0it [00:00, ?it/s]\n",
      "Gaps to simplify: 0it [00:00, ?it/s]\n",
      "Gaps to fill: 0it [00:00, ?it/s]\n",
      "Gaps to simplify: 0it [00:00, ?it/s]\n",
      "Gaps to fill: 0it [00:00, ?it/s]\n",
      "Gaps to simplify: 0it [00:00, ?it/s]\n",
      "Gaps to fill: 0it [00:00, ?it/s]\n",
      "Gaps to simplify: 0it [00:00, ?it/s]\n",
      "Gaps to fill: 0it [00:00, ?it/s]\n",
      "Gaps to simplify: 0it [00:00, ?it/s]\n",
      "Gaps to fill: 0it [00:00, ?it/s]\n",
      "Gaps to simplify: 0it [00:00, ?it/s]\n",
      "Gaps to fill: 0it [00:00, ?it/s]\n",
      "Gaps to simplify: 0it [00:00, ?it/s]\n",
      "Gaps to fill: 0it [00:00, ?it/s]\n",
      "Gaps to simplify: 0it [00:00, ?it/s]\n",
      "Gaps to fill: 0it [00:00, ?it/s]\n",
      "Gaps to simplify: 0it [00:00, ?it/s]\n",
      "Gaps to fill: 0it [00:00, ?it/s]\n",
      "Gaps to simplify: 0it [00:00, ?it/s]\n",
      "Gaps to fill: 0it [00:00, ?it/s]\n"
     ]
    }
   ],
   "source": [
    "vest_base = add_vest_base(vest_base_data, start_col, year, county = county_df)"
   ]
  },
  {
   "cell_type": "code",
   "execution_count": 30,
   "metadata": {},
   "outputs": [
    {
     "data": {
      "text/plain": [
       "[<matplotlib.lines.Line2D at 0x16985ce60>]"
      ]
     },
     "execution_count": 30,
     "metadata": {},
     "output_type": "execute_result"
    },
    {
     "data": {
      "image/png": "[encoded data removed]",
      "text/plain": [
       "<Figure size 640x480 with 1 Axes>"
      ]
     },
     "metadata": {},
     "output_type": "display_data"
    }
   ],
   "source": [
    "import matplotlib.pyplot as plt\n",
    "plt.plot(borders[:10000])"
   ]
  },
  {
   "cell_type": "code",
   "execution_count": 32,
   "metadata": {},
   "outputs": [
    {
     "name": "stdout",
     "output_type": "stream",
     "text": [
      "Snapping all geometries to a grid with precision 10^( -5 ) to avoid GEOS errors.\n",
      "Identifying overlaps...\n"
     ]
    },
    {
     "name": "stderr",
     "output_type": "stream",
     "text": [
      "100%|███████████████████████████████████| 10705/10705 [00:03<00:00, 3428.03it/s]\n"
     ]
    },
    {
     "name": "stdout",
     "output_type": "stream",
     "text": [
      "Resolving overlaps...\n",
      "Filling gaps...\n"
     ]
    },
    {
     "name": "stderr",
     "output_type": "stream",
     "text": [
      "Gaps to simplify: 0it [00:00, ?it/s]\n",
      "Gaps to fill: 0it [00:00, ?it/s]"
     ]
    },
    {
     "name": "stdout",
     "output_type": "stream",
     "text": [
      "Converting small rook adjacencies to queen...\n"
     ]
    },
    {
     "name": "stderr",
     "output_type": "stream",
     "text": [
      "\n",
      "100%|███████████████████████████████████| 10083/10083 [00:07<00:00, 1430.69it/s]\n",
      "100%|███████████████████████████████████████████| 4/4 [00:00<00:00, 1592.37it/s]\n",
      "100%|███████████████████████████████████████████| 4/4 [00:00<00:00, 2326.94it/s]\n",
      "100%|███████████████████████████████████████████| 4/4 [00:00<00:00, 2119.67it/s]\n",
      "100%|███████████████████████████████████████████| 4/4 [00:00<00:00, 2384.14it/s]\n",
      "100%|███████████████████████████████████████████| 4/4 [00:00<00:00, 2512.69it/s]\n",
      "100%|███████████████████████████████████████████| 4/4 [00:00<00:00, 1020.14it/s]\n",
      "100%|███████████████████████████████████████████| 4/4 [00:00<00:00, 1019.40it/s]\n",
      "100%|███████████████████████████████████████████| 5/5 [00:00<00:00, 1109.60it/s]\n",
      "100%|███████████████████████████████████████████| 4/4 [00:00<00:00, 1343.14it/s]\n",
      "100%|███████████████████████████████████████████| 4/4 [00:00<00:00, 1163.39it/s]\n",
      "100%|████████████████████████████████████████████| 4/4 [00:00<00:00, 800.78it/s]\n",
      "100%|███████████████████████████████████████████| 4/4 [00:00<00:00, 1340.03it/s]\n",
      "100%|███████████████████████████████████████████| 4/4 [00:00<00:00, 2482.94it/s]\n",
      "100%|███████████████████████████████████████████| 4/4 [00:00<00:00, 2628.01it/s]\n",
      "100%|███████████████████████████████████████████| 4/4 [00:00<00:00, 2360.99it/s]\n",
      "100%|███████████████████████████████████████████| 4/4 [00:00<00:00, 2111.67it/s]\n",
      "100%|████████████████████████████████████████████| 4/4 [00:00<00:00, 986.43it/s]\n",
      "100%|███████████████████████████████████████████| 3/3 [00:00<00:00, 2045.00it/s]\n",
      "100%|███████████████████████████████████████████| 4/4 [00:00<00:00, 1457.75it/s]\n",
      "100%|███████████████████████████████████████████| 4/4 [00:00<00:00, 1918.27it/s]\n",
      "100%|███████████████████████████████████████████| 4/4 [00:00<00:00, 2221.27it/s]\n",
      "100%|███████████████████████████████████████████| 4/4 [00:00<00:00, 2436.07it/s]\n",
      "100%|███████████████████████████████████████████| 4/4 [00:00<00:00, 2550.89it/s]\n",
      "100%|███████████████████████████████████████████| 4/4 [00:00<00:00, 2559.45it/s]\n",
      "100%|███████████████████████████████████████████| 4/4 [00:00<00:00, 2554.00it/s]\n",
      "100%|███████████████████████████████████████████| 4/4 [00:00<00:00, 2590.28it/s]\n",
      "100%|███████████████████████████████████████████| 4/4 [00:00<00:00, 1884.23it/s]\n",
      "100%|███████████████████████████████████████████| 5/5 [00:00<00:00, 2917.17it/s]\n",
      "100%|███████████████████████████████████████████| 4/4 [00:00<00:00, 2447.80it/s]\n",
      "100%|███████████████████████████████████████████| 4/4 [00:00<00:00, 2421.30it/s]\n",
      "100%|███████████████████████████████████████████| 4/4 [00:00<00:00, 2541.23it/s]\n",
      "100%|███████████████████████████████████████████| 4/4 [00:00<00:00, 2159.51it/s]\n",
      "100%|███████████████████████████████████████████| 5/5 [00:00<00:00, 2282.24it/s]\n",
      "100%|███████████████████████████████████████████| 4/4 [00:00<00:00, 2504.44it/s]\n",
      "100%|███████████████████████████████████████████| 4/4 [00:00<00:00, 2446.73it/s]\n",
      "100%|███████████████████████████████████████████| 4/4 [00:00<00:00, 2756.69it/s]\n",
      "100%|███████████████████████████████████████████| 4/4 [00:00<00:00, 2638.34it/s]\n",
      "100%|███████████████████████████████████████████| 4/4 [00:00<00:00, 2039.78it/s]\n",
      "100%|███████████████████████████████████████████| 3/3 [00:00<00:00, 2210.63it/s]\n",
      "100%|███████████████████████████████████████████| 4/4 [00:00<00:00, 2371.00it/s]\n",
      "100%|███████████████████████████████████████████| 4/4 [00:00<00:00, 2684.78it/s]\n",
      "100%|███████████████████████████████████████████| 4/4 [00:00<00:00, 2739.58it/s]\n",
      "100%|███████████████████████████████████████████| 4/4 [00:00<00:00, 2038.79it/s]\n",
      "100%|███████████████████████████████████████████| 4/4 [00:00<00:00, 2801.34it/s]\n",
      "100%|███████████████████████████████████████████| 4/4 [00:00<00:00, 2545.86it/s]\n",
      "100%|███████████████████████████████████████████| 4/4 [00:00<00:00, 2728.00it/s]\n",
      "100%|███████████████████████████████████████████| 4/4 [00:00<00:00, 2709.94it/s]\n",
      "100%|███████████████████████████████████████████| 4/4 [00:00<00:00, 2702.95it/s]\n",
      "100%|███████████████████████████████████████████| 4/4 [00:00<00:00, 2425.86it/s]\n",
      "100%|███████████████████████████████████████████| 4/4 [00:00<00:00, 2496.98it/s]\n",
      "100%|███████████████████████████████████████████| 4/4 [00:00<00:00, 2597.09it/s]\n",
      "100%|███████████████████████████████████████████| 4/4 [00:00<00:00, 2741.82it/s]\n",
      "100%|███████████████████████████████████████████| 4/4 [00:00<00:00, 2721.37it/s]\n",
      "100%|███████████████████████████████████████████| 4/4 [00:00<00:00, 2559.45it/s]\n",
      "100%|███████████████████████████████████████████| 4/4 [00:00<00:00, 2824.45it/s]\n",
      "100%|███████████████████████████████████████████| 4/4 [00:00<00:00, 1989.94it/s]\n",
      "100%|███████████████████████████████████████████| 4/4 [00:00<00:00, 2904.64it/s]\n",
      "100%|███████████████████████████████████████████| 4/4 [00:00<00:00, 2438.55it/s]\n",
      "100%|███████████████████████████████████████████| 4/4 [00:00<00:00, 2781.37it/s]\n",
      "100%|███████████████████████████████████████████| 4/4 [00:00<00:00, 2743.62it/s]\n",
      "100%|███████████████████████████████████████████| 4/4 [00:00<00:00, 2428.66it/s]\n",
      "100%|███████████████████████████████████████████| 4/4 [00:00<00:00, 2686.50it/s]\n",
      "100%|███████████████████████████████████████████| 4/4 [00:00<00:00, 2652.52it/s]\n",
      "100%|███████████████████████████████████████████| 4/4 [00:00<00:00, 2745.41it/s]\n",
      "100%|███████████████████████████████████████████| 4/4 [00:00<00:00, 2894.12it/s]\n",
      "100%|███████████████████████████████████████████| 4/4 [00:00<00:00, 2440.32it/s]\n",
      "100%|███████████████████████████████████████████| 4/4 [00:00<00:00, 2930.52it/s]\n",
      "100%|███████████████████████████████████████████| 4/4 [00:00<00:00, 1971.24it/s]\n",
      "100%|███████████████████████████████████████████| 4/4 [00:00<00:00, 2841.19it/s]\n",
      "100%|███████████████████████████████████████████| 4/4 [00:00<00:00, 1854.66it/s]\n",
      "100%|███████████████████████████████████████████| 4/4 [00:00<00:00, 2559.45it/s]\n",
      "100%|███████████████████████████████████████████| 4/4 [00:00<00:00, 2565.72it/s]\n",
      "100%|███████████████████████████████████████████| 4/4 [00:00<00:00, 1823.02it/s]\n",
      "100%|███████████████████████████████████████████| 6/6 [00:00<00:00, 2910.02it/s]\n",
      "100%|███████████████████████████████████████████| 4/4 [00:00<00:00, 2084.64it/s]\n",
      "100%|███████████████████████████████████████████| 4/4 [00:00<00:00, 1661.77it/s]\n",
      "100%|███████████████████████████████████████████| 4/4 [00:00<00:00, 2751.27it/s]\n",
      "100%|███████████████████████████████████████████| 4/4 [00:00<00:00, 2708.19it/s]\n",
      "100%|███████████████████████████████████████████| 4/4 [00:00<00:00, 2303.93it/s]\n",
      "100%|███████████████████████████████████████████| 4/4 [00:00<00:00, 2794.81it/s]\n",
      "100%|███████████████████████████████████████████| 4/4 [00:00<00:00, 2934.11it/s]\n",
      "100%|███████████████████████████████████████████| 4/4 [00:00<00:00, 2693.40it/s]\n",
      "100%|███████████████████████████████████████████| 4/4 [00:00<00:00, 2741.38it/s]\n",
      "100%|███████████████████████████████████████████| 4/4 [00:00<00:00, 2791.09it/s]\n",
      "100%|███████████████████████████████████████████| 5/5 [00:00<00:00, 2730.67it/s]\n",
      "100%|███████████████████████████████████████████| 4/4 [00:00<00:00, 2155.35it/s]\n",
      "100%|███████████████████████████████████████████| 5/5 [00:00<00:00, 2844.37it/s]\n",
      "100%|███████████████████████████████████████████| 4/4 [00:00<00:00, 2612.87it/s]\n",
      "100%|███████████████████████████████████████████| 4/4 [00:00<00:00, 2117.53it/s]\n",
      "100%|███████████████████████████████████████████| 4/4 [00:00<00:00, 2510.81it/s]\n",
      "100%|███████████████████████████████████████████| 4/4 [00:00<00:00, 2740.03it/s]\n",
      "100%|███████████████████████████████████████████| 4/4 [00:00<00:00, 2580.71it/s]\n",
      "100%|███████████████████████████████████████████| 4/4 [00:00<00:00, 2839.26it/s]\n",
      "100%|███████████████████████████████████████████| 4/4 [00:00<00:00, 2570.83it/s]\n",
      "100%|███████████████████████████████████████████| 4/4 [00:00<00:00, 2793.41it/s]\n",
      "100%|███████████████████████████████████████████| 4/4 [00:00<00:00, 2793.41it/s]\n",
      "100%|███████████████████████████████████████████| 4/4 [00:00<00:00, 2013.10it/s]\n",
      "100%|███████████████████████████████████████████| 4/4 [00:00<00:00, 2743.62it/s]\n",
      "100%|███████████████████████████████████████████| 5/5 [00:00<00:00, 2535.55it/s]\n",
      "100%|███████████████████████████████████████████| 5/5 [00:00<00:00, 2849.00it/s]\n",
      "100%|███████████████████████████████████████████| 5/5 [00:00<00:00, 2959.15it/s]\n",
      "100%|███████████████████████████████████████████| 4/4 [00:00<00:00, 2806.96it/s]\n",
      "100%|███████████████████████████████████████████| 5/5 [00:00<00:00, 2078.03it/s]\n",
      "100%|███████████████████████████████████████████| 4/4 [00:00<00:00, 2792.94it/s]\n",
      "100%|███████████████████████████████████████████| 4/4 [00:00<00:00, 2126.39it/s]\n",
      "100%|███████████████████████████████████████████| 4/4 [00:00<00:00, 2836.86it/s]\n",
      "100%|███████████████████████████████████████████| 4/4 [00:00<00:00, 2679.21it/s]\n",
      "100%|███████████████████████████████████████████| 4/4 [00:00<00:00, 1785.00it/s]\n",
      "100%|███████████████████████████████████████████| 4/4 [00:00<00:00, 2686.50it/s]\n",
      "100%|███████████████████████████████████████████| 4/4 [00:00<00:00, 2396.75it/s]\n",
      "100%|███████████████████████████████████████████| 4/4 [00:00<00:00, 2430.42it/s]\n",
      "100%|███████████████████████████████████████████| 4/4 [00:00<00:00, 2785.52it/s]\n",
      "100%|███████████████████████████████████████████| 4/4 [00:00<00:00, 2699.04it/s]\n",
      "100%|███████████████████████████████████████████| 4/4 [00:00<00:00, 2582.70it/s]\n",
      "100%|███████████████████████████████████████████| 4/4 [00:00<00:00, 2640.42it/s]\n",
      "100%|███████████████████████████████████████████| 4/4 [00:00<00:00, 2724.90it/s]\n",
      "100%|███████████████████████████████████████████| 4/4 [00:00<00:00, 1784.05it/s]\n",
      "100%|███████████████████████████████████████████| 4/4 [00:00<00:00, 1926.42it/s]\n",
      "100%|███████████████████████████████████████████| 4/4 [00:00<00:00, 2352.72it/s]\n",
      "100%|███████████████████████████████████████████| 4/4 [00:00<00:00, 2752.62it/s]\n",
      "100%|███████████████████████████████████████████| 4/4 [00:00<00:00, 2372.34it/s]\n",
      "100%|███████████████████████████████████████████| 4/4 [00:00<00:00, 2752.62it/s]\n",
      "100%|███████████████████████████████████████████| 4/4 [00:00<00:00, 2806.96it/s]\n",
      "100%|███████████████████████████████████████████| 4/4 [00:00<00:00, 2668.56it/s]\n",
      "100%|███████████████████████████████████████████| 4/4 [00:00<00:00, 2631.31it/s]\n",
      "100%|███████████████████████████████████████████| 4/4 [00:00<00:00, 2805.55it/s]\n",
      "100%|███████████████████████████████████████████| 4/4 [00:00<00:00, 2843.11it/s]\n",
      "100%|███████████████████████████████████████████| 4/4 [00:00<00:00, 2704.26it/s]\n",
      "100%|███████████████████████████████████████████| 4/4 [00:00<00:00, 2702.95it/s]\n",
      "100%|███████████████████████████████████████████| 4/4 [00:00<00:00, 2655.88it/s]\n",
      "100%|███████████████████████████████████████████| 4/4 [00:00<00:00, 2169.28it/s]\n",
      "100%|███████████████████████████████████████████| 5/5 [00:00<00:00, 2752.17it/s]\n",
      "100%|███████████████████████████████████████████| 4/4 [00:00<00:00, 2498.47it/s]\n",
      "100%|███████████████████████████████████████████| 5/5 [00:00<00:00, 2845.53it/s]\n",
      "100%|███████████████████████████████████████████| 5/5 [00:00<00:00, 2786.91it/s]\n",
      "100%|███████████████████████████████████████████| 5/5 [00:00<00:00, 3046.41it/s]\n",
      "100%|███████████████████████████████████████████| 4/4 [00:00<00:00, 2485.88it/s]\n",
      "100%|███████████████████████████████████████████| 5/5 [00:00<00:00, 2872.02it/s]\n",
      "100%|███████████████████████████████████████████| 4/4 [00:00<00:00, 2446.37it/s]\n",
      "100%|███████████████████████████████████████████| 4/4 [00:00<00:00, 2863.49it/s]\n",
      "100%|████████████████████████████████████████████| 4/4 [00:00<00:00, 164.32it/s]\n",
      "100%|███████████████████████████████████████████| 4/4 [00:00<00:00, 2452.81it/s]\n",
      "100%|███████████████████████████████████████████| 4/4 [00:00<00:00, 1999.91it/s]\n",
      "100%|███████████████████████████████████████████| 4/4 [00:00<00:00, 1080.52it/s]\n",
      "100%|███████████████████████████████████████████| 4/4 [00:00<00:00, 2727.12it/s]\n",
      "100%|███████████████████████████████████████████| 4/4 [00:00<00:00, 2688.23it/s]\n",
      "100%|███████████████████████████████████████████| 4/4 [00:00<00:00, 2453.89it/s]\n",
      "100%|████████████████████████████████████████████| 4/4 [00:00<00:00, 703.57it/s]\n",
      "100%|███████████████████████████████████████████| 4/4 [00:00<00:00, 1854.66it/s]\n",
      "100%|███████████████████████████████████████████| 4/4 [00:00<00:00, 2635.44it/s]\n",
      "100%|███████████████████████████████████████████| 4/4 [00:00<00:00, 2758.05it/s]\n",
      "100%|███████████████████████████████████████████| 4/4 [00:00<00:00, 2587.48it/s]\n",
      "100%|███████████████████████████████████████████| 4/4 [00:00<00:00, 2514.19it/s]\n",
      "100%|███████████████████████████████████████████| 4/4 [00:00<00:00, 2758.96it/s]\n",
      "100%|███████████████████████████████████████████| 3/3 [00:00<00:00, 2311.34it/s]\n",
      "100%|███████████████████████████████████████████| 4/4 [00:00<00:00, 2362.99it/s]\n",
      "100%|███████████████████████████████████████████| 4/4 [00:00<00:00, 2507.81it/s]\n",
      "100%|███████████████████████████████████████████| 5/5 [00:00<00:00, 2612.62it/s]\n",
      "100%|███████████████████████████████████████████| 4/4 [00:00<00:00, 1986.17it/s]\n",
      "100%|███████████████████████████████████████████| 5/5 [00:00<00:00, 3075.00it/s]\n",
      "100%|███████████████████████████████████████████| 5/5 [00:00<00:00, 2268.42it/s]\n",
      "100%|███████████████████████████████████████████| 4/4 [00:00<00:00, 2604.35it/s]\n",
      "100%|███████████████████████████████████████████| 4/4 [00:00<00:00, 1961.79it/s]\n",
      "100%|███████████████████████████████████████████| 4/4 [00:00<00:00, 2094.27it/s]\n",
      "100%|███████████████████████████████████████████| 4/4 [00:00<00:00, 2536.62it/s]\n",
      "100%|███████████████████████████████████████████| 4/4 [00:00<00:00, 2981.03it/s]\n",
      "100%|███████████████████████████████████████████| 4/4 [00:00<00:00, 1114.84it/s]\n",
      "100%|███████████████████████████████████████████| 4/4 [00:00<00:00, 2628.42it/s]\n",
      "100%|███████████████████████████████████████████| 4/4 [00:00<00:00, 2060.83it/s]\n",
      "100%|███████████████████████████████████████████| 4/4 [00:00<00:00, 2487.72it/s]\n",
      "100%|███████████████████████████████████████████| 4/4 [00:00<00:00, 1870.16it/s]\n",
      "100%|███████████████████████████████████████████| 4/4 [00:00<00:00, 2562.19it/s]\n",
      "100%|███████████████████████████████████████████| 4/4 [00:00<00:00, 2736.01it/s]\n",
      "100%|███████████████████████████████████████████| 4/4 [00:00<00:00, 2639.17it/s]\n",
      "100%|███████████████████████████████████████████| 4/4 [00:00<00:00, 2599.51it/s]\n",
      "100%|███████████████████████████████████████████| 5/5 [00:00<00:00, 2712.65it/s]\n",
      "100%|███████████████████████████████████████████| 4/4 [00:00<00:00, 2881.69it/s]\n",
      "100%|███████████████████████████████████████████| 4/4 [00:00<00:00, 2652.10it/s]\n",
      "100%|███████████████████████████████████████████| 4/4 [00:00<00:00, 2077.67it/s]\n",
      "100%|████████████████████████████████████████████| 4/4 [00:00<00:00, 625.20it/s]\n",
      "100%|███████████████████████████████████████████| 5/5 [00:00<00:00, 2739.58it/s]\n",
      "100%|███████████████████████████████████████████| 4/4 [00:00<00:00, 2134.51it/s]\n",
      "100%|███████████████████████████████████████████| 4/4 [00:00<00:00, 2640.42it/s]\n",
      "100%|███████████████████████████████████████████| 4/4 [00:00<00:00, 2814.97it/s]\n",
      "100%|███████████████████████████████████████████| 4/4 [00:00<00:00, 2474.88it/s]\n",
      "100%|███████████████████████████████████████████| 4/4 [00:00<00:00, 3055.40it/s]\n",
      "100%|███████████████████████████████████████████| 4/4 [00:00<00:00, 2754.88it/s]\n",
      "100%|███████████████████████████████████████████| 4/4 [00:00<00:00, 2749.46it/s]\n",
      "100%|███████████████████████████████████████████| 4/4 [00:00<00:00, 2234.88it/s]\n",
      "100%|███████████████████████████████████████████| 4/4 [00:00<00:00, 2523.27it/s]\n",
      "100%|███████████████████████████████████████████| 4/4 [00:00<00:00, 2372.68it/s]\n",
      "100%|███████████████████████████████████████████| 4/4 [00:00<00:00, 2787.38it/s]\n",
      "100%|███████████████████████████████████████████| 4/4 [00:00<00:00, 2439.26it/s]\n",
      "100%|███████████████████████████████████████████| 4/4 [00:00<00:00, 2886.15it/s]\n",
      "100%|███████████████████████████████████████████| 4/4 [00:00<00:00, 1646.60it/s]\n",
      "100%|███████████████████████████████████████████| 4/4 [00:00<00:00, 2699.04it/s]\n",
      "100%|███████████████████████████████████████████| 4/4 [00:00<00:00, 2402.58it/s]\n",
      "100%|███████████████████████████████████████████| 4/4 [00:00<00:00, 2744.96it/s]\n",
      "100%|████████████████████████████████████████████| 4/4 [00:00<00:00, 998.70it/s]\n",
      "100%|███████████████████████████████████████████| 4/4 [00:00<00:00, 2446.37it/s]\n",
      "100%|███████████████████████████████████████████| 4/4 [00:00<00:00, 1682.77it/s]\n",
      "100%|███████████████████████████████████████████| 4/4 [00:00<00:00, 2654.20it/s]\n",
      "100%|███████████████████████████████████████████| 5/5 [00:00<00:00, 2805.55it/s]\n",
      "100%|███████████████████████████████████████████| 4/4 [00:00<00:00, 2364.99it/s]\n",
      "100%|███████████████████████████████████████████| 4/4 [00:00<00:00, 2785.06it/s]\n",
      "100%|███████████████████████████████████████████| 4/4 [00:00<00:00, 2518.72it/s]\n",
      "100%|███████████████████████████████████████████| 4/4 [00:00<00:00, 2255.00it/s]\n",
      "100%|███████████████████████████████████████████| 4/4 [00:00<00:00, 2873.80it/s]\n",
      "100%|███████████████████████████████████████████| 4/4 [00:00<00:00, 2950.10it/s]\n",
      "100%|███████████████████████████████████████████| 4/4 [00:00<00:00, 2783.21it/s]\n",
      "100%|███████████████████████████████████████████| 4/4 [00:00<00:00, 2314.74it/s]\n",
      "100%|███████████████████████████████████████████| 4/4 [00:00<00:00, 2806.96it/s]\n",
      "100%|███████████████████████████████████████████| 4/4 [00:00<00:00, 2723.13it/s]\n",
      "100%|███████████████████████████████████████████| 4/4 [00:00<00:00, 2814.97it/s]\n",
      "100%|███████████████████████████████████████████| 4/4 [00:00<00:00, 2597.09it/s]\n",
      "100%|███████████████████████████████████████████| 4/4 [00:00<00:00, 2605.97it/s]\n",
      "100%|███████████████████████████████████████████| 4/4 [00:00<00:00, 2812.61it/s]\n",
      "100%|███████████████████████████████████████████| 4/4 [00:00<00:00, 2811.20it/s]\n",
      "100%|███████████████████████████████████████████| 4/4 [00:00<00:00, 2885.66it/s]\n",
      "100%|███████████████████████████████████████████| 4/4 [00:00<00:00, 2328.23it/s]\n",
      "100%|███████████████████████████████████████████| 4/4 [00:00<00:00, 2311.87it/s]\n",
      "100%|███████████████████████████████████████████| 4/4 [00:00<00:00, 2472.33it/s]\n",
      "100%|███████████████████████████████████████████| 4/4 [00:00<00:00, 2025.26it/s]\n",
      "100%|████████████████████████████████████████████| 4/4 [00:00<00:00, 347.14it/s]\n",
      "100%|███████████████████████████████████████████| 4/4 [00:00<00:00, 2320.50it/s]\n",
      "100%|███████████████████████████████████████████| 4/4 [00:00<00:00, 2978.38it/s]\n",
      "100%|███████████████████████████████████████████| 5/5 [00:00<00:00, 3158.84it/s]\n",
      "100%|███████████████████████████████████████████| 4/4 [00:00<00:00, 2779.99it/s]\n",
      "100%|███████████████████████████████████████████| 5/5 [00:00<00:00, 2421.37it/s]\n",
      "100%|███████████████████████████████████████████| 4/4 [00:00<00:00, 2664.74it/s]\n",
      "100%|███████████████████████████████████████████| 4/4 [00:00<00:00, 2838.78it/s]\n",
      "100%|███████████████████████████████████████████| 4/4 [00:00<00:00, 2592.68it/s]\n",
      "100%|███████████████████████████████████████████| 4/4 [00:00<00:00, 2741.82it/s]\n",
      "100%|███████████████████████████████████████████| 4/4 [00:00<00:00, 2582.70it/s]\n",
      "100%|███████████████████████████████████████████| 5/5 [00:00<00:00, 1678.93it/s]\n",
      "100%|███████████████████████████████████████████| 5/5 [00:00<00:00, 2773.28it/s]\n",
      "100%|███████████████████████████████████████████| 4/4 [00:00<00:00, 2932.57it/s]\n",
      "100%|███████████████████████████████████████████| 4/4 [00:00<00:00, 2520.62it/s]\n",
      "100%|███████████████████████████████████████████| 4/4 [00:00<00:00, 2821.12it/s]\n",
      "100%|███████████████████████████████████████████| 4/4 [00:00<00:00, 2236.07it/s]\n",
      "100%|███████████████████████████████████████████| 4/4 [00:00<00:00, 2575.17it/s]\n",
      "100%|███████████████████████████████████████████| 4/4 [00:00<00:00, 2743.17it/s]\n",
      "100%|███████████████████████████████████████████| 4/4 [00:00<00:00, 2836.86it/s]\n",
      "100%|███████████████████████████████████████████| 4/4 [00:00<00:00, 2592.28it/s]\n",
      "100%|███████████████████████████████████████████| 4/4 [00:00<00:00, 2770.35it/s]\n",
      "100%|███████████████████████████████████████████| 4/4 [00:00<00:00, 1254.28it/s]\n",
      "100%|███████████████████████████████████████████| 4/4 [00:00<00:00, 2770.35it/s]\n",
      "100%|███████████████████████████████████████████| 4/4 [00:00<00:00, 2709.94it/s]\n",
      "100%|███████████████████████████████████████████| 4/4 [00:00<00:00, 2661.36it/s]\n",
      "100%|███████████████████████████████████████████| 4/4 [00:00<00:00, 3055.96it/s]\n",
      "100%|███████████████████████████████████████████| 4/4 [00:00<00:00, 1876.23it/s]\n",
      "100%|███████████████████████████████████████████| 4/4 [00:00<00:00, 2737.80it/s]\n",
      "100%|███████████████████████████████████████████| 4/4 [00:00<00:00, 2902.63it/s]\n",
      "100%|███████████████████████████████████████████| 4/4 [00:00<00:00, 2663.05it/s]\n",
      "100%|███████████████████████████████████████████| 4/4 [00:00<00:00, 2174.90it/s]\n",
      "100%|███████████████████████████████████████████| 4/4 [00:00<00:00, 2494.01it/s]\n",
      "100%|███████████████████████████████████████████| 4/4 [00:00<00:00, 2666.86it/s]\n",
      "100%|███████████████████████████████████████████| 4/4 [00:00<00:00, 2572.40it/s]\n",
      "100%|███████████████████████████████████████████| 4/4 [00:00<00:00, 2745.86it/s]\n",
      "100%|███████████████████████████████████████████| 4/4 [00:00<00:00, 2945.44it/s]\n",
      "100%|███████████████████████████████████████████| 4/4 [00:00<00:00, 2300.14it/s]\n",
      "100%|███████████████████████████████████████████| 5/5 [00:00<00:00, 2753.25it/s]\n",
      "100%|███████████████████████████████████████████| 5/5 [00:00<00:00, 2957.07it/s]\n",
      "100%|███████████████████████████████████████████| 4/4 [00:00<00:00, 2945.96it/s]\n",
      "100%|███████████████████████████████████████████| 4/4 [00:00<00:00, 2358.67it/s]\n",
      "100%|███████████████████████████████████████████| 4/4 [00:00<00:00, 2649.17it/s]\n",
      "100%|███████████████████████████████████████████| 5/5 [00:00<00:00, 2768.52it/s]\n",
      "100%|███████████████████████████████████████████| 4/4 [00:00<00:00, 2587.48it/s]\n",
      "100%|███████████████████████████████████████████| 5/5 [00:00<00:00, 3016.18it/s]\n",
      "100%|███████████████████████████████████████████| 4/4 [00:00<00:00, 2110.61it/s]\n",
      "100%|███████████████████████████████████████████| 4/4 [00:00<00:00, 2614.09it/s]\n",
      "100%|███████████████████████████████████████████| 5/5 [00:00<00:00, 2963.75it/s]\n",
      "100%|███████████████████████████████████████████| 4/4 [00:00<00:00, 2569.25it/s]\n",
      "100%|███████████████████████████████████████████| 4/4 [00:00<00:00, 2475.61it/s]\n",
      "100%|███████████████████████████████████████████| 4/4 [00:00<00:00, 2101.88it/s]\n",
      "100%|███████████████████████████████████████████| 4/4 [00:00<00:00, 2881.69it/s]\n",
      "100%|███████████████████████████████████████████| 4/4 [00:00<00:00, 2954.26it/s]\n",
      "100%|███████████████████████████████████████████| 4/4 [00:00<00:00, 2816.86it/s]\n",
      "100%|███████████████████████████████████████████| 4/4 [00:00<00:00, 2857.16it/s]\n",
      "100%|███████████████████████████████████████████| 5/5 [00:00<00:00, 2791.74it/s]\n",
      "100%|███████████████████████████████████████████| 6/6 [00:00<00:00, 2870.84it/s]\n",
      "100%|███████████████████████████████████████████| 5/5 [00:00<00:00, 1916.26it/s]\n",
      "100%|███████████████████████████████████████████| 5/5 [00:00<00:00, 2903.84it/s]\n",
      "100%|███████████████████████████████████████████| 4/4 [00:00<00:00, 2398.46it/s]\n",
      "100%|███████████████████████████████████████████| 5/5 [00:00<00:00, 2731.02it/s]\n",
      "100%|███████████████████████████████████████████| 5/5 [00:00<00:00, 2595.81it/s]\n",
      "100%|███████████████████████████████████████████| 4/4 [00:00<00:00, 2293.54it/s]\n",
      "100%|███████████████████████████████████████████| 5/5 [00:00<00:00, 2481.54it/s]\n",
      "100%|███████████████████████████████████████████| 6/6 [00:00<00:00, 2576.09it/s]\n",
      "100%|███████████████████████████████████████████| 5/5 [00:00<00:00, 2771.81it/s]\n",
      "100%|███████████████████████████████████████████| 5/5 [00:00<00:00, 2257.43it/s]\n",
      "100%|███████████████████████████████████████████| 4/4 [00:00<00:00, 2865.45it/s]\n",
      "100%|███████████████████████████████████████████| 6/6 [00:00<00:00, 2605.43it/s]\n",
      "100%|███████████████████████████████████████████| 5/5 [00:00<00:00, 2430.64it/s]\n",
      "100%|███████████████████████████████████████████| 4/4 [00:00<00:00, 2682.64it/s]\n",
      "100%|███████████████████████████████████████████| 6/6 [00:00<00:00, 2234.58it/s]\n",
      "100%|███████████████████████████████████████████| 4/4 [00:00<00:00, 2473.79it/s]\n",
      "100%|███████████████████████████████████████████| 6/6 [00:00<00:00, 2533.81it/s]\n",
      "100%|███████████████████████████████████████████| 4/4 [00:00<00:00, 2631.72it/s]\n",
      "100%|███████████████████████████████████████████| 5/5 [00:00<00:00, 2696.95it/s]\n",
      "100%|███████████████████████████████████████████| 5/5 [00:00<00:00, 3017.48it/s]\n",
      "100%|███████████████████████████████████████████| 4/4 [00:00<00:00, 2754.88it/s]\n",
      "100%|███████████████████████████████████████████| 5/5 [00:00<00:00, 2567.84it/s]\n",
      "100%|███████████████████████████████████████████| 5/5 [00:00<00:00, 1095.52it/s]\n",
      "100%|███████████████████████████████████████████| 5/5 [00:00<00:00, 2307.10it/s]\n",
      "100%|███████████████████████████████████████████| 4/4 [00:00<00:00, 1907.37it/s]\n",
      "100%|███████████████████████████████████████████| 4/4 [00:00<00:00, 2609.21it/s]\n",
      "100%|███████████████████████████████████████████| 4/4 [00:00<00:00, 2631.31it/s]\n",
      "100%|███████████████████████████████████████████| 4/4 [00:00<00:00, 2569.25it/s]\n",
      "100%|███████████████████████████████████████████| 5/5 [00:00<00:00, 2360.86it/s]\n",
      "100%|███████████████████████████████████████████| 4/4 [00:00<00:00, 2823.02it/s]\n",
      "100%|███████████████████████████████████████████| 5/5 [00:00<00:00, 2422.77it/s]\n",
      "100%|███████████████████████████████████████████| 5/5 [00:00<00:00, 2259.38it/s]\n",
      "100%|███████████████████████████████████████████| 5/5 [00:00<00:00, 2847.07it/s]\n",
      "100%|███████████████████████████████████████████| 4/4 [00:00<00:00, 2589.08it/s]\n",
      "100%|███████████████████████████████████████████| 3/3 [00:00<00:00, 1766.77it/s]\n",
      "100%|████████████████████████████████████████████| 4/4 [00:00<00:00, 513.76it/s]\n",
      "100%|███████████████████████████████████████████| 5/5 [00:00<00:00, 2413.02it/s]\n",
      "100%|███████████████████████████████████████████| 5/5 [00:00<00:00, 1642.12it/s]\n",
      "100%|███████████████████████████████████████████| 4/4 [00:00<00:00, 1426.03it/s]\n",
      "100%|███████████████████████████████████████████| 5/5 [00:00<00:00, 2093.59it/s]\n",
      "100%|███████████████████████████████████████████| 4/4 [00:00<00:00, 2642.08it/s]\n",
      "100%|███████████████████████████████████████████| 5/5 [00:00<00:00, 2478.90it/s]\n",
      "100%|███████████████████████████████████████████| 4/4 [00:00<00:00, 2932.57it/s]\n",
      "100%|███████████████████████████████████████████| 4/4 [00:00<00:00, 2614.09it/s]\n",
      "100%|███████████████████████████████████████████| 4/4 [00:00<00:00, 2604.35it/s]\n",
      "100%|███████████████████████████████████████████| 4/4 [00:00<00:00, 2905.15it/s]\n",
      "100%|███████████████████████████████████████████| 4/4 [00:00<00:00, 1339.61it/s]\n",
      "100%|███████████████████████████████████████████| 4/4 [00:00<00:00, 2740.03it/s]\n",
      "100%|███████████████████████████████████████████| 5/5 [00:00<00:00, 3065.56it/s]\n",
      "100%|███████████████████████████████████████████| 5/5 [00:00<00:00, 2915.14it/s]\n",
      "100%|███████████████████████████████████████████| 4/4 [00:00<00:00, 2490.31it/s]\n",
      "100%|███████████████████████████████████████████| 4/4 [00:00<00:00, 2408.10it/s]\n",
      "100%|███████████████████████████████████████████| 4/4 [00:00<00:00, 2741.82it/s]\n",
      "100%|███████████████████████████████████████████| 5/5 [00:00<00:00, 2865.35it/s]\n",
      "100%|███████████████████████████████████████████| 5/5 [00:00<00:00, 2807.43it/s]\n",
      "100%|███████████████████████████████████████████| 5/5 [00:00<00:00, 2432.04it/s]\n",
      "100%|███████████████████████████████████████████| 5/5 [00:00<00:00, 2414.13it/s]\n",
      "100%|███████████████████████████████████████████| 5/5 [00:00<00:00, 1662.82it/s]\n",
      "100%|███████████████████████████████████████████| 6/6 [00:00<00:00, 2617.89it/s]\n",
      "100%|███████████████████████████████████████████| 5/5 [00:00<00:00, 1891.88it/s]\n",
      "100%|███████████████████████████████████████████| 5/5 [00:00<00:00, 2337.44it/s]\n",
      "100%|███████████████████████████████████████████| 6/6 [00:00<00:00, 2865.29it/s]\n",
      "100%|███████████████████████████████████████████| 6/6 [00:00<00:00, 1344.97it/s]\n",
      "100%|███████████████████████████████████████████| 5/5 [00:00<00:00, 2816.86it/s]\n",
      "100%|███████████████████████████████████████████| 5/5 [00:00<00:00, 2867.31it/s]\n",
      "100%|███████████████████████████████████████████| 5/5 [00:00<00:00, 2858.71it/s]\n",
      "100%|███████████████████████████████████████████| 5/5 [00:00<00:00, 2660.01it/s]\n",
      "100%|███████████████████████████████████████████| 7/7 [00:00<00:00, 3167.22it/s]\n",
      "100%|███████████████████████████████████████████| 5/5 [00:00<00:00, 2818.37it/s]\n",
      "100%|███████████████████████████████████████████| 5/5 [00:00<00:00, 2802.93it/s]\n",
      "100%|███████████████████████████████████████████| 5/5 [00:00<00:00, 2643.91it/s]\n",
      "100%|███████████████████████████████████████████| 5/5 [00:00<00:00, 2950.00it/s]\n",
      "100%|███████████████████████████████████████████| 5/5 [00:00<00:00, 2808.94it/s]\n",
      "100%|███████████████████████████████████████████| 5/5 [00:00<00:00, 1934.46it/s]\n",
      "100%|███████████████████████████████████████████| 5/5 [00:00<00:00, 1998.43it/s]\n",
      "100%|███████████████████████████████████████████| 5/5 [00:00<00:00, 1831.57it/s]\n",
      "100%|███████████████████████████████████████████| 5/5 [00:00<00:00, 1773.04it/s]\n",
      "100%|███████████████████████████████████████████| 5/5 [00:00<00:00, 2395.92it/s]\n",
      "100%|███████████████████████████████████████████| 5/5 [00:00<00:00, 1344.50it/s]\n",
      "100%|███████████████████████████████████████████| 4/4 [00:00<00:00, 1345.51it/s]\n",
      "100%|███████████████████████████████████████████| 5/5 [00:00<00:00, 1567.85it/s]\n",
      "100%|███████████████████████████████████████████| 6/6 [00:00<00:00, 1514.46it/s]\n",
      "100%|███████████████████████████████████| 10083/10083 [00:06<00:00, 1478.53it/s]\n"
     ]
    }
   ],
   "source": [
    "vest_base = do_smart_repair(vest_base, min_rook_length = 30.5)"
   ]
  },
  {
   "cell_type": "code",
   "execution_count": 33,
   "metadata": {},
   "outputs": [
    {
     "name": "stderr",
     "output_type": "stream",
     "text": [
      "100%|███████████████████████████████████| 10083/10083 [00:08<00:00, 1183.28it/s]\n"
     ]
    },
    {
     "data": {
      "text/plain": [
       "True"
      ]
     },
     "execution_count": 33,
     "metadata": {},
     "output_type": "execute_result"
    }
   ],
   "source": [
    "maup.doctor(vest_base)"
   ]
  },
  {
   "cell_type": "markdown",
   "metadata": {},
   "source": [
    "## If it is true for maup doctor, we will use it as the base vest data."
   ]
  },
  {
   "cell_type": "code",
   "execution_count": 34,
   "metadata": {},
   "outputs": [
    {
     "name": "stderr",
     "output_type": "stream",
     "text": [
      "100%|████████████████████████████████████| 10083/10083 [00:11<00:00, 902.83it/s]\n",
      "100%|████████████████████████████████████| 10083/10083 [00:29<00:00, 337.48it/s]\n"
     ]
    }
   ],
   "source": [
    "# vap and population have the same GEOID20\n",
    "blocks_to_precincts_assignment = maup.assign(population_df.geometry, vest_base.geometry)"
   ]
  },
  {
   "cell_type": "code",
   "execution_count": 35,
   "metadata": {},
   "outputs": [],
   "source": [
    "vest_base[pop_col] = population_df[pop_col].groupby(blocks_to_precincts_assignment).sum()"
   ]
  },
  {
   "cell_type": "code",
   "execution_count": 36,
   "metadata": {},
   "outputs": [],
   "source": [
    "election_df = gpd.GeoDataFrame(vest_base)"
   ]
  },
  {
   "cell_type": "code",
   "execution_count": 37,
   "metadata": {},
   "outputs": [
    {
     "data": {
      "text/plain": [
       "Index(['COUNTYFP20', 'GEOID20', 'NAME20', 'PRE20D', 'PRE20O', 'PRE20R',\n",
       "       'STATEFP20', 'USS20D', 'USS20O', 'USS20R', 'VTDST20', 'geometry',\n",
       "       'TOTPOP', 'HISP', 'NH_WHITE', 'NH_BLACK', 'NH_AMIN', 'NH_ASIAN',\n",
       "       'NH_NHPI', 'NH_OTHER', 'NH_2MORE', 'H_WHITE', 'H_BLACK', 'H_AMIN',\n",
       "       'H_ASIAN', 'H_NHPI', 'H_OTHER', 'H_2MORE', 'VAP', 'HVAP', 'WVAP',\n",
       "       'BVAP', 'AMINVAP', 'ASIANVAP', 'NHPIVAP', 'OTHERVAP', '2MOREVAP'],\n",
       "      dtype='object')"
      ]
     },
     "execution_count": 37,
     "metadata": {},
     "output_type": "execute_result"
    }
   ],
   "source": [
    "election_df.columns"
   ]
  },
  {
   "cell_type": "markdown",
   "metadata": {},
   "source": [
    "## Check if population agrees"
   ]
  },
  {
   "cell_type": "code",
   "execution_count": 38,
   "metadata": {},
   "outputs": [
    {
     "name": "stdout",
     "output_type": "stream",
     "text": [
      "population agrees\n"
     ]
    }
   ],
   "source": [
    "check_population(population_df, vest_base)"
   ]
  },
  {
   "cell_type": "markdown",
   "metadata": {},
   "source": [
    "## Add more vest data"
   ]
  },
  {
   "cell_type": "code",
   "execution_count": 33,
   "metadata": {},
   "outputs": [],
   "source": [
    "start_col = 5\n",
    "vest18 = gpd.read_file(vest18_data)\n",
    "vest16 = gpd.read_file(vest16_data)"
   ]
  },
  {
   "cell_type": "code",
   "execution_count": 34,
   "metadata": {},
   "outputs": [
    {
     "data": {
      "text/plain": [
       "Index(['STATEFP20', 'COUNTYFP20', 'VTDST20', 'GEOID20', 'NAME20', 'G18GOVDPRI',\n",
       "       'G18GOVRRAU', 'G18GOVCMCC', 'G18GOVLJAC', 'G18ATGDRAO', 'G18ATGRHAR',\n",
       "       'G18ATGLHAR', 'G18SOSDWHI', 'G18SOSRHEL', 'G18SOSLDUT', 'G18COMDMEN',\n",
       "       'G18COMRSEN', 'G18COMLBAL', 'G18TREDFRE', 'G18TRERDOD', 'G18TRELLEH',\n",
       "       'geometry'],\n",
       "      dtype='object')"
      ]
     },
     "execution_count": 34,
     "metadata": {},
     "output_type": "execute_result"
    }
   ],
   "source": [
    "vest18.columns"
   ]
  },
  {
   "cell_type": "code",
   "execution_count": 35,
   "metadata": {},
   "outputs": [
    {
     "data": {
      "text/plain": [
       "Index(['COUNTYFP', 'NAME', 'G16PREDCLI', 'G16PRERTRU', 'G16PRELJOH',\n",
       "       'G16PREGSTE', 'G16PREOWRI', 'G16USSDDUC', 'G16USSRKIR', 'G16USSLMCM',\n",
       "       'G16USSGSUM', 'G16USSOWRI', 'G16COMDMEN', 'G16COMRMUN', 'G16COMLBAL',\n",
       "       'G16COMGCUR', 'geometry'],\n",
       "      dtype='object')"
      ]
     },
     "execution_count": 35,
     "metadata": {},
     "output_type": "execute_result"
    }
   ],
   "source": [
    "vest16.columns"
   ]
  },
  {
   "cell_type": "code",
   "execution_count": 36,
   "metadata": {},
   "outputs": [
    {
     "name": "stderr",
     "output_type": "stream",
     "text": [
      "100%|███████████████████████████████████| 10116/10116 [00:04<00:00, 2086.67it/s]\n"
     ]
    },
    {
     "name": "stdout",
     "output_type": "stream",
     "text": [
      "There are 4 overlaps.\n",
      "There are 5 holes.\n",
      "Snapping all geometries to a grid with precision 10^( -5 ) to avoid GEOS errors.\n",
      "Identifying overlaps...\n"
     ]
    },
    {
     "name": "stderr",
     "output_type": "stream",
     "text": [
      "100%|███████████████████████████████████| 10746/10746 [00:02<00:00, 3789.61it/s]\n"
     ]
    },
    {
     "name": "stdout",
     "output_type": "stream",
     "text": [
      "Resolving overlaps...\n",
      "Assigning order 2 pieces...\n",
      "Filling gaps...\n"
     ]
    },
    {
     "name": "stderr",
     "output_type": "stream",
     "text": [
      "Gaps to simplify: 100%|███████████████████████████| 4/4 [00:10<00:00,  2.68s/it]\n",
      "Gaps to fill: 100%|███████████████████████████████| 1/1 [00:05<00:00,  5.38s/it]\n",
      "100%|███████████████████████████████████| 10116/10116 [00:05<00:00, 2008.00it/s]\n",
      "100%|███████████████████████████████████| 10116/10116 [00:08<00:00, 1136.16it/s]\n",
      "100%|████████████████████████████████████| 10116/10116 [00:22<00:00, 444.47it/s]\n",
      "100%|███████████████████████████████████| 10083/10083 [00:09<00:00, 1095.31it/s]\n",
      "100%|████████████████████████████████████| 10083/10083 [00:23<00:00, 430.91it/s]\n"
     ]
    },
    {
     "name": "stdout",
     "output_type": "stream",
     "text": [
      "population agrees\n"
     ]
    }
   ],
   "source": [
    "# check the result here\n",
    "election_df = add_vest(vest18, election_df, '18', population_df, start_col)"
   ]
  },
  {
   "cell_type": "code",
   "execution_count": 37,
   "metadata": {},
   "outputs": [
    {
     "data": {
      "text/plain": [
       "Index(['2MOREVAP', 'AMINVAP', 'ASIANVAP', 'ATG18D', 'ATG18O', 'ATG18R', 'BVAP',\n",
       "       'COM18D', 'COM18O', 'COM18R', 'COUNTYFP20', 'GEOID20', 'GOV18D',\n",
       "       'GOV18O', 'GOV18R', 'HISP', 'HVAP', 'H_2MORE', 'H_AMIN', 'H_ASIAN',\n",
       "       'H_BLACK', 'H_NHPI', 'H_OTHER', 'H_WHITE', 'NAME20', 'NHPIVAP',\n",
       "       'NH_2MORE', 'NH_AMIN', 'NH_ASIAN', 'NH_BLACK', 'NH_NHPI', 'NH_OTHER',\n",
       "       'NH_WHITE', 'OTHERVAP', 'PRE20D', 'PRE20O', 'PRE20R', 'SOS18D',\n",
       "       'SOS18O', 'SOS18R', 'STATEFP20', 'TOTPOP', 'TRE18D', 'TRE18O', 'TRE18R',\n",
       "       'USS20D', 'USS20O', 'USS20R', 'VAP', 'VTDST20', 'WVAP', 'geometry'],\n",
       "      dtype='object')"
      ]
     },
     "execution_count": 37,
     "metadata": {},
     "output_type": "execute_result"
    }
   ],
   "source": [
    "election_df.columns"
   ]
  },
  {
   "cell_type": "code",
   "execution_count": 38,
   "metadata": {},
   "outputs": [
    {
     "name": "stderr",
     "output_type": "stream",
     "text": [
      "100%|███████████████████████████████████| 10090/10090 [00:04<00:00, 2018.46it/s]\n"
     ]
    },
    {
     "name": "stdout",
     "output_type": "stream",
     "text": [
      "There are 583 overlaps.\n",
      "There are 690 holes.\n",
      "There are some invalid geometries.\n",
      "Snapping all geometries to a grid with precision 10^( -5 ) to avoid GEOS errors.\n",
      "Identifying overlaps...\n"
     ]
    },
    {
     "name": "stderr",
     "output_type": "stream",
     "text": [
      "100%|███████████████████████████████████| 12361/12361 [00:03<00:00, 3593.42it/s]\n"
     ]
    },
    {
     "name": "stdout",
     "output_type": "stream",
     "text": [
      "Resolving overlaps...\n",
      "Assigning order 2 pieces...\n",
      "Assigning order 3 pieces...\n",
      "Filling gaps...\n"
     ]
    },
    {
     "name": "stderr",
     "output_type": "stream",
     "text": [
      "Gaps to simplify: 100%|███████████████████████| 656/656 [30:01<00:00,  2.75s/it]\n",
      "Gaps to fill: 100%|███████████████████████████| 206/206 [30:28<00:00,  8.87s/it]\n",
      "100%|███████████████████████████████████| 10090/10090 [00:05<00:00, 1945.63it/s]\n",
      "100%|████████████████████████████████████| 10090/10090 [00:10<00:00, 946.08it/s]\n",
      "100%|████████████████████████████████████| 10090/10090 [00:24<00:00, 408.45it/s]\n",
      "100%|███████████████████████████████████| 10083/10083 [00:09<00:00, 1073.35it/s]\n",
      "100%|████████████████████████████████████| 10083/10083 [00:27<00:00, 363.32it/s]\n"
     ]
    },
    {
     "name": "stdout",
     "output_type": "stream",
     "text": [
      "population agrees\n"
     ]
    }
   ],
   "source": [
    "election_df = add_vest(vest16, election_df, '16', population_df, start_col)"
   ]
  },
  {
   "cell_type": "markdown",
   "metadata": {},
   "source": [
    "##  Add the district data"
   ]
  },
  {
   "cell_type": "code",
   "execution_count": 39,
   "metadata": {},
   "outputs": [],
   "source": [
    "cd = gpd.read_file(cd_data)\n",
    "cd = cd.to_crs(cd.estimate_utm_crs())\n",
    "send = gpd.read_file(send_data)\n",
    "send = send.to_crs(send.estimate_utm_crs())\n",
    "hdist = gpd.read_file(hdist_data)\n",
    "hdist = hdist.to_crs(hdist.estimate_utm_crs())"
   ]
  },
  {
   "cell_type": "code",
   "execution_count": 40,
   "metadata": {},
   "outputs": [
    {
     "data": {
      "text/html": [
       "<div>\n",
       "<style scoped>\n",
       "    .dataframe tbody tr th:only-of-type {\n",
       "        vertical-align: middle;\n",
       "    }\n",
       "\n",
       "    .dataframe tbody tr th {\n",
       "        vertical-align: top;\n",
       "    }\n",
       "\n",
       "    .dataframe thead th {\n",
       "        text-align: right;\n",
       "    }\n",
       "</style>\n",
       "<table border=\"1\" class=\"dataframe\">\n",
       "  <thead>\n",
       "    <tr style=\"text-align: right;\">\n",
       "      <th></th>\n",
       "      <th>ID</th>\n",
       "      <th>DISTRICT</th>\n",
       "      <th>DISTRICTN</th>\n",
       "      <th>geometry</th>\n",
       "    </tr>\n",
       "  </thead>\n",
       "  <tbody>\n",
       "    <tr>\n",
       "      <th>0</th>\n",
       "      <td>1</td>\n",
       "      <td>1</td>\n",
       "      <td>1</td>\n",
       "      <td>POLYGON ((428243.456 4555542.145, 428185.554 4...</td>\n",
       "    </tr>\n",
       "    <tr>\n",
       "      <th>1</th>\n",
       "      <td>2</td>\n",
       "      <td>2</td>\n",
       "      <td>2</td>\n",
       "      <td>POLYGON ((445570.405 4430367.209, 445568.433 4...</td>\n",
       "    </tr>\n",
       "    <tr>\n",
       "      <th>2</th>\n",
       "      <td>3</td>\n",
       "      <td>3</td>\n",
       "      <td>3</td>\n",
       "      <td>POLYGON ((404389.377 4629752.701, 404410.545 4...</td>\n",
       "    </tr>\n",
       "    <tr>\n",
       "      <th>3</th>\n",
       "      <td>4</td>\n",
       "      <td>4</td>\n",
       "      <td>4</td>\n",
       "      <td>POLYGON ((436744.441 4619747.731, 436743.873 4...</td>\n",
       "    </tr>\n",
       "    <tr>\n",
       "      <th>4</th>\n",
       "      <td>5</td>\n",
       "      <td>5</td>\n",
       "      <td>5</td>\n",
       "      <td>POLYGON ((401201.548 4660382.061, 401202.705 4...</td>\n",
       "    </tr>\n",
       "  </tbody>\n",
       "</table>\n",
       "</div>"
      ],
      "text/plain": [
       "   ID DISTRICT  DISTRICTN                                           geometry\n",
       "0   1        1          1  POLYGON ((428243.456 4555542.145, 428185.554 4...\n",
       "1   2        2          2  POLYGON ((445570.405 4430367.209, 445568.433 4...\n",
       "2   3        3          3  POLYGON ((404389.377 4629752.701, 404410.545 4...\n",
       "3   4        4          4  POLYGON ((436744.441 4619747.731, 436743.873 4...\n",
       "4   5        5          5  POLYGON ((401201.548 4660382.061, 401202.705 4..."
      ]
     },
     "execution_count": 40,
     "metadata": {},
     "output_type": "execute_result"
    }
   ],
   "source": [
    "cd.head()"
   ]
  },
  {
   "cell_type": "code",
   "execution_count": 41,
   "metadata": {},
   "outputs": [
    {
     "name": "stderr",
     "output_type": "stream",
     "text": [
      "100%|███████████████████████████████████████████| 17/17 [00:00<00:00, 73.23it/s]\n",
      "100%|███████████████████████████████████████████| 17/17 [00:00<00:00, 54.64it/s]\n",
      "100%|███████████████████████████████████████████| 17/17 [00:02<00:00,  8.34it/s]\n"
     ]
    }
   ],
   "source": [
    "election_df = add_district(cd, \"CD\", election_df, \"DISTRICT\")"
   ]
  },
  {
   "cell_type": "code",
   "execution_count": 42,
   "metadata": {},
   "outputs": [
    {
     "data": {
      "text/html": [
       "<div>\n",
       "<style scoped>\n",
       "    .dataframe tbody tr th:only-of-type {\n",
       "        vertical-align: middle;\n",
       "    }\n",
       "\n",
       "    .dataframe tbody tr th {\n",
       "        vertical-align: top;\n",
       "    }\n",
       "\n",
       "    .dataframe thead th {\n",
       "        text-align: right;\n",
       "    }\n",
       "</style>\n",
       "<table border=\"1\" class=\"dataframe\">\n",
       "  <thead>\n",
       "    <tr style=\"text-align: right;\">\n",
       "      <th></th>\n",
       "      <th>ID</th>\n",
       "      <th>DISTRICT</th>\n",
       "      <th>DISTRICTN</th>\n",
       "      <th>geometry</th>\n",
       "    </tr>\n",
       "  </thead>\n",
       "  <tbody>\n",
       "    <tr>\n",
       "      <th>0</th>\n",
       "      <td>1</td>\n",
       "      <td>1</td>\n",
       "      <td>1</td>\n",
       "      <td>POLYGON ((436975.256 4635141.539, 437056.270 4...</td>\n",
       "    </tr>\n",
       "    <tr>\n",
       "      <th>1</th>\n",
       "      <td>2</td>\n",
       "      <td>2</td>\n",
       "      <td>2</td>\n",
       "      <td>POLYGON ((438129.000 4638796.613, 438128.843 4...</td>\n",
       "    </tr>\n",
       "    <tr>\n",
       "      <th>2</th>\n",
       "      <td>3</td>\n",
       "      <td>3</td>\n",
       "      <td>3</td>\n",
       "      <td>POLYGON ((442376.598 4625484.518, 442375.927 4...</td>\n",
       "    </tr>\n",
       "    <tr>\n",
       "      <th>3</th>\n",
       "      <td>4</td>\n",
       "      <td>4</td>\n",
       "      <td>4</td>\n",
       "      <td>POLYGON ((424883.826 4630049.227, 424859.891 4...</td>\n",
       "    </tr>\n",
       "    <tr>\n",
       "      <th>4</th>\n",
       "      <td>5</td>\n",
       "      <td>5</td>\n",
       "      <td>5</td>\n",
       "      <td>POLYGON ((438591.968 4635158.732, 438592.007 4...</td>\n",
       "    </tr>\n",
       "  </tbody>\n",
       "</table>\n",
       "</div>"
      ],
      "text/plain": [
       "   ID DISTRICT  DISTRICTN                                           geometry\n",
       "0   1        1          1  POLYGON ((436975.256 4635141.539, 437056.270 4...\n",
       "1   2        2          2  POLYGON ((438129.000 4638796.613, 438128.843 4...\n",
       "2   3        3          3  POLYGON ((442376.598 4625484.518, 442375.927 4...\n",
       "3   4        4          4  POLYGON ((424883.826 4630049.227, 424859.891 4...\n",
       "4   5        5          5  POLYGON ((438591.968 4635158.732, 438592.007 4..."
      ]
     },
     "execution_count": 42,
     "metadata": {},
     "output_type": "execute_result"
    }
   ],
   "source": [
    "send.head()"
   ]
  },
  {
   "cell_type": "code",
   "execution_count": 43,
   "metadata": {},
   "outputs": [
    {
     "name": "stderr",
     "output_type": "stream",
     "text": [
      "100%|██████████████████████████████████████████| 59/59 [00:00<00:00, 204.95it/s]\n",
      "100%|██████████████████████████████████████████| 59/59 [00:00<00:00, 238.88it/s]\n",
      "100%|███████████████████████████████████████████| 59/59 [00:01<00:00, 38.33it/s]\n"
     ]
    }
   ],
   "source": [
    "election_df = add_district(send, \"SEND\", election_df, \"DISTRICT\")"
   ]
  },
  {
   "cell_type": "code",
   "execution_count": 44,
   "metadata": {},
   "outputs": [
    {
     "data": {
      "text/html": [
       "<div>\n",
       "<style scoped>\n",
       "    .dataframe tbody tr th:only-of-type {\n",
       "        vertical-align: middle;\n",
       "    }\n",
       "\n",
       "    .dataframe tbody tr th {\n",
       "        vertical-align: top;\n",
       "    }\n",
       "\n",
       "    .dataframe thead th {\n",
       "        text-align: right;\n",
       "    }\n",
       "</style>\n",
       "<table border=\"1\" class=\"dataframe\">\n",
       "  <thead>\n",
       "    <tr style=\"text-align: right;\">\n",
       "      <th></th>\n",
       "      <th>id</th>\n",
       "      <th>NAME</th>\n",
       "      <th>TotalPop</th>\n",
       "      <th>PopDevPc</th>\n",
       "      <th>DemPct</th>\n",
       "      <th>RepPct</th>\n",
       "      <th>WhitePct</th>\n",
       "      <th>Minority</th>\n",
       "      <th>BlackPct</th>\n",
       "      <th>Hispanic</th>\n",
       "      <th>PacificP</th>\n",
       "      <th>AsianPct</th>\n",
       "      <th>NativePc</th>\n",
       "      <th>TotalVAP</th>\n",
       "      <th>Margin</th>\n",
       "      <th>color</th>\n",
       "      <th>opacity</th>\n",
       "      <th>geometry</th>\n",
       "    </tr>\n",
       "  </thead>\n",
       "  <tbody>\n",
       "    <tr>\n",
       "      <th>0</th>\n",
       "      <td>1.0</td>\n",
       "      <td>1</td>\n",
       "      <td>108418.0</td>\n",
       "      <td>-0.001497</td>\n",
       "      <td>0.786379</td>\n",
       "      <td>0.168535</td>\n",
       "      <td>0.135930</td>\n",
       "      <td>0.864070</td>\n",
       "      <td>0.064027</td>\n",
       "      <td>0.760881</td>\n",
       "      <td>0.001668</td>\n",
       "      <td>0.039964</td>\n",
       "      <td>0.056052</td>\n",
       "      <td>79747.0</td>\n",
       "      <td>0.286379</td>\n",
       "      <td>#820000</td>\n",
       "      <td>0.5</td>\n",
       "      <td>POLYGON ((433369.491 4629229.780, 433373.834 4...</td>\n",
       "    </tr>\n",
       "    <tr>\n",
       "      <th>1</th>\n",
       "      <td>2.0</td>\n",
       "      <td>2</td>\n",
       "      <td>108632.0</td>\n",
       "      <td>0.000474</td>\n",
       "      <td>0.705331</td>\n",
       "      <td>0.239649</td>\n",
       "      <td>0.291269</td>\n",
       "      <td>0.708731</td>\n",
       "      <td>0.044220</td>\n",
       "      <td>0.645671</td>\n",
       "      <td>0.001267</td>\n",
       "      <td>0.017056</td>\n",
       "      <td>0.053751</td>\n",
       "      <td>81320.0</td>\n",
       "      <td>0.205331</td>\n",
       "      <td>#000094</td>\n",
       "      <td>0.5</td>\n",
       "      <td>POLYGON ((433369.491 4629229.780, 433420.916 4...</td>\n",
       "    </tr>\n",
       "    <tr>\n",
       "      <th>2</th>\n",
       "      <td>3.0</td>\n",
       "      <td>3</td>\n",
       "      <td>108636.0</td>\n",
       "      <td>0.000510</td>\n",
       "      <td>0.799736</td>\n",
       "      <td>0.154047</td>\n",
       "      <td>0.355919</td>\n",
       "      <td>0.644081</td>\n",
       "      <td>0.058889</td>\n",
       "      <td>0.541325</td>\n",
       "      <td>0.002304</td>\n",
       "      <td>0.049325</td>\n",
       "      <td>0.041994</td>\n",
       "      <td>85941.0</td>\n",
       "      <td>0.299736</td>\n",
       "      <td>#88ff6e</td>\n",
       "      <td>0.5</td>\n",
       "      <td>POLYGON ((440038.002 4642056.168, 439936.590 4...</td>\n",
       "    </tr>\n",
       "    <tr>\n",
       "      <th>3</th>\n",
       "      <td>4.0</td>\n",
       "      <td>4</td>\n",
       "      <td>108533.0</td>\n",
       "      <td>-0.000438</td>\n",
       "      <td>0.839892</td>\n",
       "      <td>0.113112</td>\n",
       "      <td>0.302877</td>\n",
       "      <td>0.697123</td>\n",
       "      <td>0.144531</td>\n",
       "      <td>0.526451</td>\n",
       "      <td>0.001898</td>\n",
       "      <td>0.035023</td>\n",
       "      <td>0.035608</td>\n",
       "      <td>85345.0</td>\n",
       "      <td>0.339892</td>\n",
       "      <td>#009aff</td>\n",
       "      <td>0.5</td>\n",
       "      <td>POLYGON ((440825.690 4638823.311, 440829.316 4...</td>\n",
       "    </tr>\n",
       "    <tr>\n",
       "      <th>4</th>\n",
       "      <td>5.0</td>\n",
       "      <td>5</td>\n",
       "      <td>108665.0</td>\n",
       "      <td>0.000778</td>\n",
       "      <td>0.839852</td>\n",
       "      <td>0.111920</td>\n",
       "      <td>0.299765</td>\n",
       "      <td>0.700235</td>\n",
       "      <td>0.534157</td>\n",
       "      <td>0.050037</td>\n",
       "      <td>0.001287</td>\n",
       "      <td>0.112646</td>\n",
       "      <td>0.011508</td>\n",
       "      <td>90114.0</td>\n",
       "      <td>0.339852</td>\n",
       "      <td>#ff9200</td>\n",
       "      <td>0.5</td>\n",
       "      <td>POLYGON ((447532.435 4627964.776, 447514.903 4...</td>\n",
       "    </tr>\n",
       "  </tbody>\n",
       "</table>\n",
       "</div>"
      ],
      "text/plain": [
       "    id NAME  TotalPop  PopDevPc    DemPct    RepPct  WhitePct  Minority  \\\n",
       "0  1.0    1  108418.0 -0.001497  0.786379  0.168535  0.135930  0.864070   \n",
       "1  2.0    2  108632.0  0.000474  0.705331  0.239649  0.291269  0.708731   \n",
       "2  3.0    3  108636.0  0.000510  0.799736  0.154047  0.355919  0.644081   \n",
       "3  4.0    4  108533.0 -0.000438  0.839892  0.113112  0.302877  0.697123   \n",
       "4  5.0    5  108665.0  0.000778  0.839852  0.111920  0.299765  0.700235   \n",
       "\n",
       "   BlackPct  Hispanic  PacificP  AsianPct  NativePc  TotalVAP    Margin  \\\n",
       "0  0.064027  0.760881  0.001668  0.039964  0.056052   79747.0  0.286379   \n",
       "1  0.044220  0.645671  0.001267  0.017056  0.053751   81320.0  0.205331   \n",
       "2  0.058889  0.541325  0.002304  0.049325  0.041994   85941.0  0.299736   \n",
       "3  0.144531  0.526451  0.001898  0.035023  0.035608   85345.0  0.339892   \n",
       "4  0.534157  0.050037  0.001287  0.112646  0.011508   90114.0  0.339852   \n",
       "\n",
       "     color opacity                                           geometry  \n",
       "0  #820000     0.5  POLYGON ((433369.491 4629229.780, 433373.834 4...  \n",
       "1  #000094     0.5  POLYGON ((433369.491 4629229.780, 433420.916 4...  \n",
       "2  #88ff6e     0.5  POLYGON ((440038.002 4642056.168, 439936.590 4...  \n",
       "3  #009aff     0.5  POLYGON ((440825.690 4638823.311, 440829.316 4...  \n",
       "4  #ff9200     0.5  POLYGON ((447532.435 4627964.776, 447514.903 4...  "
      ]
     },
     "execution_count": 44,
     "metadata": {},
     "output_type": "execute_result"
    }
   ],
   "source": [
    "hdist.head()"
   ]
  },
  {
   "cell_type": "code",
   "execution_count": 45,
   "metadata": {},
   "outputs": [
    {
     "name": "stderr",
     "output_type": "stream",
     "text": [
      "100%|████████████████████████████████████████| 118/118 [00:00<00:00, 739.79it/s]\n"
     ]
    },
    {
     "name": "stdout",
     "output_type": "stream",
     "text": [
      "There are some invalid geometries.\n",
      "Snapping all geometries to a grid with precision 10^( -5 ) to avoid GEOS errors.\n",
      "Identifying overlaps...\n"
     ]
    },
    {
     "name": "stderr",
     "output_type": "stream",
     "text": [
      "100%|███████████████████████████████████████| 119/119 [00:00<00:00, 3084.66it/s]\n"
     ]
    },
    {
     "name": "stdout",
     "output_type": "stream",
     "text": [
      "Resolving overlaps...\n",
      "Filling gaps...\n"
     ]
    },
    {
     "name": "stderr",
     "output_type": "stream",
     "text": [
      "Gaps to simplify: 0it [00:00, ?it/s]\n",
      "Gaps to fill: 0it [00:00, ?it/s]\n",
      "100%|████████████████████████████████████████| 118/118 [00:00<00:00, 738.25it/s]\n",
      "100%|████████████████████████████████████████| 118/118 [00:00<00:00, 296.47it/s]\n",
      "100%|████████████████████████████████████████| 118/118 [00:01<00:00, 102.90it/s]\n"
     ]
    }
   ],
   "source": [
    "election_df = add_district(hdist, \"HDIST\", election_df, \"NAME\")"
   ]
  },
  {
   "cell_type": "code",
   "execution_count": 46,
   "metadata": {},
   "outputs": [
    {
     "name": "stderr",
     "output_type": "stream",
     "text": [
      "100%|███████████████████████████████████| 10083/10083 [00:05<00:00, 1983.16it/s]\n"
     ]
    },
    {
     "data": {
      "text/plain": [
       "True"
      ]
     },
     "execution_count": 46,
     "metadata": {},
     "output_type": "execute_result"
    }
   ],
   "source": [
    "maup.doctor(election_df)"
   ]
  },
  {
   "cell_type": "markdown",
   "metadata": {},
   "source": [
    "### Put the base precinct year after the precinct information column"
   ]
  },
  {
   "cell_type": "code",
   "execution_count": 47,
   "metadata": {},
   "outputs": [],
   "source": [
    "base_columns = {}\n",
    "if 'COUNTYFP' + year not in election_df.columns:\n",
    "    base_columns = {\n",
    "        'STATEFP':'STATEFP'+year,\n",
    "        'COUNTYFP':'COUNTYFP'+year,\n",
    "        'VTDST':'VTDST'+year,\n",
    "        'GEOID':'GEOID'+year,\n",
    "        'NAME':'NAME'+year}\n",
    "election_df.rename(columns=base_columns, inplace = True)"
   ]
  },
  {
   "cell_type": "code",
   "execution_count": 48,
   "metadata": {},
   "outputs": [],
   "source": [
    "# reorder the columns\n",
    "fixed_columns = [\n",
    "    'STATEFP'+year,\n",
    "    'COUNTYFP'+year,\n",
    "    'VTDST'+year,\n",
    "    'GEOID'+year,\n",
    "    'NAME'+year,\n",
    "    'CD',\n",
    "    'SEND',\n",
    "    'HDIST',\n",
    "    'TOTPOP',\n",
    "    'NH_2MORE',\n",
    "    'NH_AMIN',\n",
    "    'NH_ASIAN',\n",
    "    'NH_BLACK',\n",
    "    'NH_NHPI',\n",
    "    'NH_OTHER',\n",
    "    'NH_WHITE',\n",
    "    'HISP',\n",
    "    'H_AMIN',\n",
    "    'H_ASIAN',\n",
    "    'H_BLACK',\n",
    "    'H_NHPI',\n",
    "    'H_OTHER',\n",
    "    'H_WHITE',\n",
    "    'H_2MORE',\n",
    "    'VAP',\n",
    "    'HVAP',\n",
    "    'WVAP',\n",
    "    'BVAP',\n",
    "    'AMINVAP',\n",
    "    'ASIANVAP',\n",
    "    'NHPIVAP',\n",
    "    'OTHERVAP',\n",
    "    '2MOREVAP']\n",
    "\n",
    "election_columns = [col for col in election_df.columns if col not in fixed_columns]\n",
    "final_col = fixed_columns + election_columns\n",
    "election_df = election_df[final_col]"
   ]
  },
  {
   "cell_type": "code",
   "execution_count": 49,
   "metadata": {},
   "outputs": [],
   "source": [
    "import os\n",
    "\n",
    "# store the result in directory \"il\"\n",
    "directory = \"./{}\".format(state_ab)\n",
    "if not os.path.exists(directory):\n",
    "    os.makedirs(directory)\n",
    "\n",
    "shapefile_path = \"./{}/{}.shp\".format(state_ab, state_ab)\n",
    "geojson_path = './{}/{}.geojson'.format(state_ab, state_ab)\n",
    "json_path = \"./{}.json\".format(state_ab, state_ab)\n",
    "\n",
    "# Check if the shapefile or geojson file already exists\n",
    "if os.path.exists(shapefile_path):\n",
    "    os.remove(shapefile_path)\n",
    "if os.path.exists(geojson_path):\n",
    "    os.remove(geojson_path)\n",
    "\n",
    "election_df.to_file(shapefile_path)\n",
    "election_df.to_file(geojson_path, driver='GeoJSON')\n",
    "\n",
    "# Only do once to build json and read from file when generating ensembles\n",
    "graph = Graph.from_file(shapefile_path, ignore_errors=True)\n",
    "graph.to_json(json_path)"
   ]
  },
  {
   "cell_type": "code",
   "execution_count": 50,
   "metadata": {},
   "outputs": [
    {
     "data": {
      "text/plain": [
       "<Axes: >"
      ]
     },
     "execution_count": 50,
     "metadata": {},
     "output_type": "execute_result"
    },
    {
     "data": {
      "image/png": "[encoded data removed]",
      "text/plain": [
       "<Figure size 640x480 with 1 Axes>"
      ]
     },
     "metadata": {},
     "output_type": "display_data"
    }
   ],
   "source": [
    "shapefile_path = \"./{}/{}.shp\".format(state_ab, state_ab)\n",
    "shape=gpd.read_file(shapefile_path)\n",
    "shape.plot()"
   ]
  },
  {
   "cell_type": "code",
   "execution_count": null,
   "metadata": {},
   "outputs": [],
   "source": []
  }
 ],
 "metadata": {
  "kernelspec": {
   "display_name": "maup",
   "language": "python",
   "name": "maup"
  },
  "language_info": {
   "codemirror_mode": {
    "name": "ipython",
    "version": 3
   },
   "file_extension": ".py",
   "mimetype": "text/x-python",
   "name": "python",
   "nbconvert_exporter": "python",
   "pygments_lexer": "ipython3",
   "version": "3.12.6"
  }
 },
 "nbformat": 4,
 "nbformat_minor": 4
}
